{
 "cells": [
  {
   "cell_type": "code",
   "execution_count": null,
   "metadata": {},
   "outputs": [],
   "source": [
    "# Dependencies and Setup\n",
    "import pandas as pd"
   ]
  },
  {
   "cell_type": "code",
   "execution_count": null,
   "metadata": {},
   "outputs": [],
   "source": [
    "# File to Load (Remember to Change These)\n",
    "\n",
    "school_df = \"Resources/schools_complete.csv\"\n",
    "student_df = \"Resources/students_complete.csv\""
   ]
  },
  {
   "cell_type": "code",
   "execution_count": null,
   "metadata": {},
   "outputs": [],
   "source": [
    "# Read School and Student Data File and store into Pandas DataFrames\n",
    "\n",
    "school_df = pd.read_csv(school_df)\n",
    "student_df = pd.read_csv(student_df)"
   ]
  },
  {
   "cell_type": "code",
   "execution_count": null,
   "metadata": {},
   "outputs": [],
   "source": [
    "school_df.head(1)"
   ]
  },
  {
   "cell_type": "code",
   "execution_count": null,
   "metadata": {},
   "outputs": [],
   "source": [
    "school_df['stBud'] = (school_df['budget']) / (school_df['size'])"
   ]
  },
  {
   "cell_type": "code",
   "execution_count": null,
   "metadata": {},
   "outputs": [],
   "source": [
    "school_df.head()"
   ]
  },
  {
   "cell_type": "code",
   "execution_count": null,
   "metadata": {},
   "outputs": [],
   "source": [
    "student_df.head(1)"
   ]
  },
  {
   "cell_type": "code",
   "execution_count": null,
   "metadata": {},
   "outputs": [],
   "source": [
    "## Create Columns That Assume Fail before 70+ Result\n",
    "student_df['pRead'] = False\n",
    "student_df['pMath'] = False\n",
    "student_df['pComb'] = False"
   ]
  },
  {
   "cell_type": "code",
   "execution_count": null,
   "metadata": {},
   "outputs": [],
   "source": [
    "## Edit Columns for successful students to Pass\n",
    "student_df.loc[student_df['reading_score'] >= 70, 'pRead'] = True\n",
    "student_df.loc[student_df['math_score'] >= 70, 'pMath'] = True\n",
    "student_df.loc[(student_df['reading_score'] >= 70) & (student_df['math_score'] >= 70), 'pComb'] = True\n",
    "student_df.head(20)"
   ]
  },
  {
   "cell_type": "code",
   "execution_count": null,
   "metadata": {},
   "outputs": [],
   "source": [
    "student_df.dtypes"
   ]
  },
  {
   "cell_type": "code",
   "execution_count": null,
   "metadata": {},
   "outputs": [],
   "source": [
    "pRdist = (student_df['pRead']).sum()\n",
    "pMdist = (student_df['pMath']).sum()\n",
    "pAdist = (student_df['pComb']).sum()"
   ]
  },
  {
   "cell_type": "code",
   "execution_count": null,
   "metadata": {},
   "outputs": [],
   "source": [
    "print(pRdist)"
   ]
  },
  {
   "cell_type": "code",
   "execution_count": null,
   "metadata": {},
   "outputs": [],
   "source": [
    "print(pMdist)"
   ]
  },
  {
   "cell_type": "code",
   "execution_count": null,
   "metadata": {},
   "outputs": [],
   "source": [
    "print(pAdist)"
   ]
  },
  {
   "cell_type": "code",
   "execution_count": null,
   "metadata": {},
   "outputs": [],
   "source": [
    "# Combine the data into a single dataset.  \n",
    "comb_df = pd.merge(school_df, student_df, on=[\"school_name\"])"
   ]
  },
  {
   "cell_type": "code",
   "execution_count": null,
   "metadata": {},
   "outputs": [],
   "source": [
    "comb_df.head(1)"
   ]
  },
  {
   "cell_type": "code",
   "execution_count": null,
   "metadata": {
    "scrolled": true
   },
   "outputs": [],
   "source": [
    "#  INFO comb_df.dtypes"
   ]
  },
  {
   "cell_type": "code",
   "execution_count": null,
   "metadata": {},
   "outputs": [],
   "source": [
    "# Split DataFrames for each School\n",
    "hua_df = comb_df[comb_df['school_name'] == 'Huang High School']\n",
    "fig_df = comb_df[comb_df['school_name'] == 'Figueroa High School']\n",
    "she_df = comb_df[comb_df['school_name'] == 'Shelton High School']\n",
    "her_df = comb_df[comb_df['school_name'] == 'Hernandez High School']\n",
    "gri_df = comb_df[comb_df['school_name'] == 'Griffin High School']\n",
    "wil_df = comb_df[comb_df['school_name'] == 'Wilson High School']\n",
    "cab_df = comb_df[comb_df['school_name'] == 'Cabrera High School']\n",
    "bai_df = comb_df[comb_df['school_name'] == 'Bailey High School']\n",
    "hol_df = comb_df[comb_df['school_name'] == 'Holden High School']\n",
    "pen_df = comb_df[comb_df['school_name'] == 'Pena High School']\n",
    "wri_df = comb_df[comb_df['school_name'] == 'Wright High School']\n",
    "rod_df = comb_df[comb_df['school_name'] == 'Rodriguez High School']\n",
    "joh_df = comb_df[comb_df['school_name'] == 'Johnson High School']\n",
    "for_df = comb_df[comb_df['school_name'] == 'Ford High School']\n",
    "tho_df = comb_df[comb_df['school_name'] == 'Thomas High School']"
   ]
  },
  {
   "cell_type": "code",
   "execution_count": null,
   "metadata": {},
   "outputs": [],
   "source": [
    "# Assign Variables to Total Student Counts by School\n",
    "huaSt = school_df.iloc[0, 3]\n",
    "figSt = school_df.iloc[1, 3]\n",
    "sheSt = school_df.iloc[2, 3]\n",
    "herSt = school_df.iloc[3, 3]\n",
    "griSt = school_df.iloc[4, 3]\n",
    "wilSt = school_df.iloc[5, 3]\n",
    "cabSt = school_df.iloc[6, 3]\n",
    "baiSt = school_df.iloc[7, 3]\n",
    "holSt = school_df.iloc[8, 3]\n",
    "penSt = school_df.iloc[9, 3]\n",
    "wriSt = school_df.iloc[10, 3]\n",
    "rodSt = school_df.iloc[11, 3]\n",
    "johSt = school_df.iloc[12, 3]\n",
    "forSt = school_df.iloc[13, 3]\n",
    "thoSt = school_df.iloc[14, 3]"
   ]
  },
  {
   "cell_type": "code",
   "execution_count": null,
   "metadata": {},
   "outputs": [],
   "source": [
    "#Assign Variables to Student Budgets by School\n",
    "huaBi = school_df.iloc[0, 5]\n",
    "figBi = school_df.iloc[1, 5]\n",
    "sheBi = school_df.iloc[2, 5]\n",
    "herBi = school_df.iloc[3, 5]\n",
    "griBi = school_df.iloc[4, 5]\n",
    "wilBi = school_df.iloc[5, 5]\n",
    "cabBi = school_df.iloc[6, 5]\n",
    "baiBi = school_df.iloc[7, 5]\n",
    "holBi = school_df.iloc[8, 5]\n",
    "penBi = school_df.iloc[9, 5]\n",
    "wriBi = school_df.iloc[10, 5]\n",
    "rodBi = school_df.iloc[11, 5]\n",
    "johBi = school_df.iloc[12, 5]\n",
    "forBi = school_df.iloc[13, 5]\n",
    "thoBi = school_df.iloc[14, 5]"
   ]
  },
  {
   "cell_type": "code",
   "execution_count": null,
   "metadata": {},
   "outputs": [],
   "source": [
    "distSt = school_df[\"size\"].sum()"
   ]
  },
  {
   "cell_type": "code",
   "execution_count": null,
   "metadata": {},
   "outputs": [],
   "source": [
    "# More Variables for District -- Averages\n",
    "aRdist = student_df['reading_score'].mean()\n",
    "aMdist = student_df['math_score'].mean()\n",
    "\n",
    "# More Variables for District -- Percentages\n",
    "ppMdist = (pRdist/distSt)\n",
    "ppMdist = (pMdist/distSt)\n",
    "ppMdist = (pAdist/distSt)"
   ]
  },
  {
   "cell_type": "code",
   "execution_count": null,
   "metadata": {},
   "outputs": [],
   "source": [
    "# Count Passing Students in 3 Criteria by School\n",
    "pRhua = (hua_df['pRead']).sum()\n",
    "pMhua = (hua_df['pMath']).sum()\n",
    "pAhua = (hua_df['pComb']).sum()\n",
    "#----------------------------------------\n",
    "pRfig = (fig_df['pRead']).sum()\n",
    "pMfig = (fig_df['pMath']).sum()\n",
    "pAfig = (fig_df['pComb']).sum()\n",
    "#----------------------------------------\n",
    "pRshe = (she_df['pRead']).sum()\n",
    "pMshe = (she_df['pMath']).sum()\n",
    "pAshe = (she_df['pComb']).sum()\n",
    "#----------------------------------------\n",
    "pRher = (her_df['pRead']).sum()\n",
    "pMher = (her_df['pMath']).sum()\n",
    "pAher = (her_df['pComb']).sum()\n",
    "#----------------------------------------\n",
    "pRgri = (gri_df['pRead']).sum()\n",
    "pMgri = (gri_df['pMath']).sum()\n",
    "pAgri = (gri_df['pComb']).sum()\n",
    "#----------------------------------------\n",
    "pRwil = (wil_df['pRead']).sum()\n",
    "pMwil = (wil_df['pMath']).sum()\n",
    "pAwil = (wil_df['pComb']).sum()\n",
    "#----------------------------------------\n",
    "pRcab = (cab_df['pRead']).sum()\n",
    "pMcab = (cab_df['pMath']).sum()\n",
    "pAcab = (cab_df['pComb']).sum()\n",
    "#----------------------------------------\n",
    "pRbai = (bai_df['pRead']).sum()\n",
    "pMbai = (bai_df['pMath']).sum()\n",
    "pAbai = (bai_df['pComb']).sum()\n",
    "#----------------------------------------\n",
    "pRhol = (hol_df['pRead']).sum()\n",
    "pMhol = (hol_df['pMath']).sum()\n",
    "pAhol = (hol_df['pComb']).sum()\n",
    "#----------------------------------------\n",
    "pRpen = (pen_df['pRead']).sum()\n",
    "pMpen = (pen_df['pMath']).sum()\n",
    "pApen = (pen_df['pComb']).sum()\n",
    "#----------------------------------------\n",
    "pRwri = (wri_df['pRead']).sum()\n",
    "pMwri = (wri_df['pMath']).sum()\n",
    "pAwri = (wri_df['pComb']).sum()\n",
    "#----------------------------------------\n",
    "pRrod = (rod_df['pRead']).sum()\n",
    "pMrod = (rod_df['pMath']).sum()\n",
    "pArod = (rod_df['pComb']).sum()\n",
    "#----------------------------------------\n",
    "pRjoh = (joh_df['pRead']).sum()\n",
    "pMjoh = (joh_df['pMath']).sum()\n",
    "pAjoh = (joh_df['pComb']).sum()\n",
    "#----------------------------------------\n",
    "pRfor = (for_df['pRead']).sum()\n",
    "pMfor = (for_df['pMath']).sum()\n",
    "pAfor = (for_df['pComb']).sum()\n",
    "#----------------------------------------\n",
    "pRtho = (tho_df['pRead']).sum()\n",
    "pMtho = (tho_df['pMath']).sum()\n",
    "pAtho = (tho_df['pComb']).sum()\n"
   ]
  },
  {
   "cell_type": "code",
   "execution_count": null,
   "metadata": {},
   "outputs": [],
   "source": [
    "# Assign Varables to Reading Averages by School\n",
    "aRhua = hua_df['reading_score'].mean()\n",
    "aRfig = fig_df['reading_score'].mean()\n",
    "aRshe = she_df['reading_score'].mean()\n",
    "aRher = her_df['reading_score'].mean()\n",
    "aRgri = gri_df['reading_score'].mean()\n",
    "aRwil = wil_df['reading_score'].mean()\n",
    "aRcab = cab_df['reading_score'].mean()\n",
    "aRbai = bai_df['reading_score'].mean()\n",
    "aRhol = hol_df['reading_score'].mean()\n",
    "aRpen = pen_df['reading_score'].mean()\n",
    "aRwri = wri_df['reading_score'].mean()\n",
    "aRrod = rod_df['reading_score'].mean()\n",
    "aRjoh = joh_df['reading_score'].mean()\n",
    "aRfor = for_df['reading_score'].mean()\n",
    "aRtho = tho_df['reading_score'].mean()"
   ]
  },
  {
   "cell_type": "code",
   "execution_count": null,
   "metadata": {},
   "outputs": [],
   "source": [
    "# Assign Varables to Math Averages by School math\n",
    "aMhua = hua_df['math_score'].mean()\n",
    "aMfig = fig_df['math_score'].mean()\n",
    "aMshe = she_df['math_score'].mean()\n",
    "aMher = her_df['math_score'].mean()\n",
    "aMgri = gri_df['math_score'].mean()\n",
    "aMwil = wil_df['math_score'].mean()\n",
    "aMcab = cab_df['math_score'].mean()\n",
    "aMbai = bai_df['math_score'].mean()\n",
    "aMhol = hol_df['math_score'].mean()\n",
    "aMpen = pen_df['math_score'].mean()\n",
    "aMwri = wri_df['math_score'].mean()\n",
    "aMrod = rod_df['math_score'].mean()\n",
    "aMjoh = joh_df['math_score'].mean()\n",
    "aMfor = for_df['math_score'].mean()\n",
    "aMtho = tho_df['math_score'].mean()"
   ]
  },
  {
   "cell_type": "code",
   "execution_count": null,
   "metadata": {},
   "outputs": [],
   "source": [
    "# Assign Varables to Reading Percentages by School\n",
    "ppRhua = (pRhua/huaSt)*100\n",
    "ppRfig = (pRfig/figSt)*100\n",
    "ppRshe = (pRshe/sheSt)*100\n",
    "ppRher = (pRher/herSt)*100\n",
    "ppRgri = (pRgri/griSt)*100\n",
    "ppRwil = (pRwil/wilSt)*100\n",
    "ppRcab = (pRcab/cabSt)*100\n",
    "ppRbai = (pRbai/baiSt)*100\n",
    "ppRhol = (pRhol/holSt)*100\n",
    "ppRpen = (pRpen/penSt)*100\n",
    "ppRwri = (pRwri/wriSt)*100\n",
    "ppRrod = (pRrod/rodSt)*100\n",
    "ppRjoh = (pRjoh/johSt)*100\n",
    "ppRfor = (pRfor/forSt)*100\n",
    "ppRtho = (pRtho/thoSt)*100"
   ]
  },
  {
   "cell_type": "code",
   "execution_count": null,
   "metadata": {},
   "outputs": [],
   "source": [
    "# Assign Varables to Math Percentages by School\n",
    "ppMhua = (pMhua/huaSt)*100\n",
    "ppMfig = (pMfig/figSt)*100\n",
    "ppMshe = (pMshe/sheSt)*100\n",
    "ppMher = (pMher/herSt)*100\n",
    "ppMgri = (pMgri/griSt)*100\n",
    "ppMwil = (pMwil/wilSt)*100\n",
    "ppMcab = (pMcab/cabSt)*100\n",
    "ppMbai = (pMbai/baiSt)*100\n",
    "ppMhol = (pMhol/holSt)*100\n",
    "ppMpen = (pMpen/penSt)*100\n",
    "ppMwri = (pMwri/wriSt)*100\n",
    "ppMrod = (pMrod/rodSt)*100\n",
    "ppMjoh = (pMjoh/johSt)*100\n",
    "ppMfor = (pMfor/forSt)*100\n",
    "ppMtho = (pMtho/thoSt)*100"
   ]
  },
  {
   "cell_type": "code",
   "execution_count": null,
   "metadata": {},
   "outputs": [],
   "source": [
    "# Assign Varables to Overall Percentages by School\n",
    "ppAhua = (pAhua/huaSt)*100\n",
    "ppAfig = (pAfig/figSt)*100\n",
    "ppAshe = (pAshe/sheSt)*100\n",
    "ppAher = (pAher/herSt)*100\n",
    "ppAgri = (pAgri/griSt)*100\n",
    "ppAwil = (pAwil/wilSt)*100\n",
    "ppAcab = (pAcab/cabSt)*100\n",
    "ppAbai = (pAbai/baiSt)*100\n",
    "ppAhol = (pAhol/holSt)*100\n",
    "ppApen = (pApen/penSt)*100\n",
    "ppAwri = (pAwri/wriSt)*100\n",
    "ppArod = (pArod/rodSt)*100\n",
    "ppAjoh = (pAjoh/johSt)*100\n",
    "ppAfor = (pAfor/forSt)*100\n",
    "ppAtho = (pAtho/thoSt)*100"
   ]
  },
  {
   "cell_type": "code",
   "execution_count": null,
   "metadata": {},
   "outputs": [],
   "source": [
    "student_df[\"school_name\"].unique()"
   ]
  },
  {
   "cell_type": "code",
   "execution_count": null,
   "metadata": {},
   "outputs": [],
   "source": [
    "# Calculate the total number of schools\n",
    "schoolCt = school_df[\"school_name\"].nunique()"
   ]
  },
  {
   "cell_type": "code",
   "execution_count": null,
   "metadata": {},
   "outputs": [],
   "source": [
    "# Calculate the total number of students\n",
    "distSt = student_df[\"student_name\"].count()"
   ]
  },
  {
   "cell_type": "code",
   "execution_count": null,
   "metadata": {},
   "outputs": [],
   "source": [
    "# Caluculate the total budget\n",
    "distBudg = school_df[\"budget\"].sum()"
   ]
  },
  {
   "cell_type": "code",
   "execution_count": null,
   "metadata": {},
   "outputs": [],
   "source": [
    "# Calculate the average reading score\n",
    "rAvg = student_df[\"reading_score\"].mean()"
   ]
  },
  {
   "cell_type": "code",
   "execution_count": null,
   "metadata": {},
   "outputs": [],
   "source": [
    "# Calculate the average math score\n",
    "mAvg = student_df[\"math_score\"].mean()"
   ]
  },
  {
   "cell_type": "code",
   "execution_count": null,
   "metadata": {},
   "outputs": [],
   "source": [
    "# Calculate the percentage of passing students in 3 categories\n",
    "ppRdist = (pRdist / distSt) * 100\n",
    "ppMdist = (pMdist / distSt) * 100\n",
    "ppAdist = (pAdist / distSt) * 100"
   ]
  },
  {
   "cell_type": "code",
   "execution_count": null,
   "metadata": {},
   "outputs": [],
   "source": [
    "# Optional: give the displayed data cleaner formatting"
   ]
  },
  {
   "cell_type": "markdown",
   "metadata": {},
   "source": [
    "## District Summary"
   ]
  },
  {
   "cell_type": "code",
   "execution_count": null,
   "metadata": {},
   "outputs": [],
   "source": [
    "# Create a dataframe to hold the above results\n",
    "dist_summary = {'Total Schools': schoolCt, 'Total Students': distSt, 'Total Budget': distBudg, \\\n",
    "                          'Average Math Score': mAvg, 'Average Reading score': rAvg, '% Passing Reading': ppRdist, \\\n",
    "                          '% Passing Math': ppMdist, '% Overall Passing': ppAdist}\n",
    "(dist_summary)"
   ]
  },
  {
   "cell_type": "code",
   "execution_count": null,
   "metadata": {},
   "outputs": [],
   "source": [
    "# Create a Summary DataFrame for school results"
   ]
  },
  {
   "cell_type": "markdown",
   "metadata": {},
   "source": [
    "## School Summary"
   ]
  },
  {
   "cell_type": "code",
   "execution_count": null,
   "metadata": {},
   "outputs": [],
   "source": [
    "sch_sum_df = pd.DataFrame({\n",
    "        \"School Name\": [\"Huang High School\", \"Figueroa High School\", \"Shelton High School\", \"Hernandez High School\", \\\n",
    "        \"Griffin High School\",\"Wilson High School\", \"Cabrera High School\", \"Bailey High School\", \"Holden High School\", \\\n",
    "        \"Pena High School\", \"Wright High School\", \"Rodriguez High School\", \"Johnson High School\", \"Ford High School\", \\\n",
    "        \"Thomas High School\"], \"School Type\": [\"District\", \"District\", \"Charter\", \"District\", \"Charter\", \"Charter\", \\\n",
    "        \"Charter\", \"District\", \"Charter\", \"Charter\", \"Charter\", \"District\", \"District\", \"District\", \"Charter\"], \\\n",
    "        \"Total Students\": [\"2917\", \"2949\", \"1761\", \"4635\", \"1468\", \"2283\", \"1858\", \"4976\", \"427\", \"962\", \"1800\", \"3999\", \\\n",
    "        \"4761\", \"2739\", \"1635\"], \"Total School Budget\": [\"1910635\", \"1884411\", \"1056600\", \"3022020\", \"917500\", \"1319574\", \\\n",
    "        \"1081356\", \"3124928\", \"248087\", \"585858\", \"1049400\", \"2547363\", \"3094650\", \"1763916\", \"1043130\"], \"Per Student Budget\": \\\n",
    "        [(huaBi), (figBi), (sheBi), (herBi), (griBi), (wilBi), (cabBi), (baiBi), (holBi), (penBi), (wriBi), (rodBi), (johBi), \\\n",
    "        (forBi), (thoBi)], \"Average Reading Score\": [(aRhua), (aRfig), (aRshe), (aRher), (aRgri), (aRwil), (aRcab), (aRbai), \\\n",
    "        (aRhol), (aRpen), (aRwri), (aRrod), (aRjoh), (aRfor), (aRtho)], \"Average Math Score\": [(aMhua), (aMfig), (aMshe), \\\n",
    "        (aMher), (aMgri), (aMwil), (aMcab), (aMbai), (aMhol), (aMpen), (aMwri), (aMrod), (aMjoh), (aMfor), (aMtho)], \\\n",
    "        \"% Passing Math\": [(ppMhua), (ppMfig), (ppMshe), (ppMher), (ppMgri), (ppMwil), (ppMcab), (ppMbai), (ppMhol), (ppMpen), \\\n",
    "        (ppMwri), (ppMrod), (ppMjoh), (ppMfor), (ppMtho)], \"% Passing Reading\": [(ppRhua), (ppMfig), (ppRshe), (ppRher), \\\n",
    "        (ppRgri), (ppRwil), (ppRcab), (ppRbai), (ppRhol), (ppRpen), (ppRwri), (ppRrod), (ppRjoh), (ppRfor), (ppRtho)], \\\n",
    "        \"% Overall Passing\": [(ppAhua), (ppAfig), (ppAshe), (ppAher), (ppAgri), (ppAwil), (ppAcab), (ppAbai), (ppAhol), \\\n",
    "        (ppApen), (ppAwri), (ppArod), (ppAjoh), (ppAfor), (ppAtho)]}) "
   ]
  },
  {
   "cell_type": "code",
   "execution_count": null,
   "metadata": {},
   "outputs": [],
   "source": [
    "sch_sum_df"
   ]
  },
  {
   "cell_type": "markdown",
   "metadata": {},
   "source": [
    "## Top Performing Schools (By % Overall Passing)"
   ]
  },
  {
   "cell_type": "markdown",
   "metadata": {},
   "source": [
    "* Sort and display the top five performing schools by % overall passing."
   ]
  },
  {
   "cell_type": "code",
   "execution_count": null,
   "metadata": {
    "scrolled": true
   },
   "outputs": [],
   "source": [
    "# Create a dataframe sorted by Overall Passing per School\n",
    "\n",
    "top_df = sch_sum_df.sort_values('% Overall Passing', ascending=False)\n",
    "top_df.head(5)"
   ]
  },
  {
   "cell_type": "markdown",
   "metadata": {},
   "source": [
    "## Bottom Performing Schools (By % Overall Passing)"
   ]
  },
  {
   "cell_type": "markdown",
   "metadata": {},
   "source": [
    "* Sort and display the five worst-performing schools by % overall passing."
   ]
  },
  {
   "cell_type": "code",
   "execution_count": null,
   "metadata": {},
   "outputs": [],
   "source": [
    "bottom_df = sch_sum_df.sort_values('% Overall Passing', ascending=True)\n",
    "bottom_df.head(5)"
   ]
  },
  {
   "cell_type": "markdown",
   "metadata": {
    "collapsed": true
   },
   "source": [
    "## Math Scores by Grade"
   ]
  },
  {
   "cell_type": "markdown",
   "metadata": {},
   "source": [
    "* Create a table that lists the average Reading Score for students of each grade level (9th, 10th, 11th, 12th) at each school.\n",
    "\n",
    "  * Create a pandas series for each grade. Hint: use a conditional statement.\n",
    "  \n",
    "  * Group each series by school\n",
    "  \n",
    "  * Combine the series into a dataframe\n",
    "  \n",
    "  * Optional: give the displayed data cleaner formatting"
   ]
  },
  {
   "cell_type": "code",
   "execution_count": null,
   "metadata": {},
   "outputs": [],
   "source": [
    "# Create Summary table using groupby to find average math scores by school & year of student \n",
    "comb_df.groupby(['school_name', 'grade'])['math_score'].mean()"
   ]
  },
  {
   "cell_type": "markdown",
   "metadata": {},
   "source": [
    "## Reading Score by Grade "
   ]
  },
  {
   "cell_type": "markdown",
   "metadata": {},
   "source": [
    "* Perform the same operations as above for reading scores"
   ]
  },
  {
   "cell_type": "code",
   "execution_count": null,
   "metadata": {},
   "outputs": [],
   "source": [
    "comb_df.groupby(['school_name', 'grade'])['reading_score'].mean()"
   ]
  },
  {
   "cell_type": "markdown",
   "metadata": {},
   "source": [
    "## Scores by School Spending"
   ]
  },
  {
   "cell_type": "markdown",
   "metadata": {},
   "source": [
    "* Create a table that breaks down school performances based on average Spending Ranges (Per Student). Use 4 reasonable bins to group school spending. Include in the table each of the following:\n",
    "  * Average Math Score\n",
    "  * Average Reading Score\n",
    "  * % Passing Math\n",
    "  * % Passing Reading\n",
    "  * Overall Passing Rate (Average of the above two)"
   ]
  },
  {
   "cell_type": "code",
   "execution_count": null,
   "metadata": {},
   "outputs": [],
   "source": [
    "abc_df = sch_sum_df"
   ]
  },
  {
   "cell_type": "code",
   "execution_count": null,
   "metadata": {},
   "outputs": [],
   "source": [
    "bins = [577, 596.9, 616.9, 636.9, 657]\n",
    "budg_labels = [\"577-596\", \"597-616\", \"617-636\", \"637-657\"]\n",
    "\n",
    "budg_sum_df = abc_df\n",
    "budg_sum_df[\"Budget Group\"] = pd.cut(budg_sum_df['Per Student Budget'], bins, labels=budg_labels)\n",
    "budg_sum_df"
   ]
  },
  {
   "cell_type": "markdown",
   "metadata": {},
   "source": [
    "# <span style=\"color: blue;\">CURRENTLY</span> <span style=\"color: green;\">WORKING</span> <span style=\"color: red;\">HERE</span>"
   ]
  },
  {
   "cell_type": "markdown",
   "metadata": {},
   "source": [
    "## Scores by School Size"
   ]
  },
  {
   "cell_type": "code",
   "execution_count": null,
   "metadata": {},
   "outputs": [],
   "source": [
    "edges = [1, 1999.9, 2999.9, 3999.9, 5000]\n",
    "size_labels = [\"1-1999\", \"2000-2999\", \"3000-3999\", \"4000-5000\"]\n",
    "\n",
    "size_sum_df = sch_sum_df\n",
    "#size_sum_df[\"School Size\"] = pd.cut(size_sum_df[\"Total Students\"], edges, labels=size_labels)\n",
    "size_sum_df"
   ]
  },
  {
   "cell_type": "code",
   "execution_count": null,
   "metadata": {},
   "outputs": [],
   "source": [
    "sch_sum_df"
   ]
  },
  {
   "cell_type": "markdown",
   "metadata": {},
   "source": [
    "* Perform the same operations as above, based on school size."
   ]
  },
  {
   "cell_type": "code",
   "execution_count": null,
   "metadata": {
    "scrolled": true
   },
   "outputs": [],
   "source": []
  },
  {
   "cell_type": "markdown",
   "metadata": {},
   "source": [
    "## Scores by School Type"
   ]
  },
  {
   "cell_type": "markdown",
   "metadata": {},
   "source": [
    "* Perform the same operations as above, based on school type"
   ]
  },
  {
   "cell_type": "code",
   "execution_count": null,
   "metadata": {},
   "outputs": [],
   "source": []
  },
  {
   "cell_type": "code",
   "execution_count": null,
   "metadata": {},
   "outputs": [],
   "source": []
  }
 ],
 "metadata": {
  "anaconda-cloud": {},
  "kernel_info": {
   "name": "python3"
  },
  "kernelspec": {
   "display_name": "PythonData38",
   "language": "python",
   "name": "pythondata38"
  },
  "language_info": {
   "codemirror_mode": {
    "name": "ipython",
    "version": 3
   },
   "file_extension": ".py",
   "mimetype": "text/x-python",
   "name": "python",
   "nbconvert_exporter": "python",
   "pygments_lexer": "ipython3",
   "version": "3.9.12"
  },
  "latex_envs": {
   "LaTeX_envs_menu_present": true,
   "autoclose": false,
   "autocomplete": true,
   "bibliofile": "biblio.bib",
   "cite_by": "apalike",
   "current_citInitial": 1,
   "eqLabelWithNumbers": true,
   "eqNumInitial": 1,
   "hotkeys": {
    "equation": "Ctrl-E",
    "itemize": "Ctrl-I"
   },
   "labels_anchors": false,
   "latex_user_defs": false,
   "report_style_numbering": false,
   "user_envs_cfg": false
  },
  "nteract": {
   "version": "0.8.4"
  }
 },
 "nbformat": 4,
 "nbformat_minor": 1
}
