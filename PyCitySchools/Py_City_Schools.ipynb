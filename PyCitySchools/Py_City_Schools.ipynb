{
 "cells": [
  {
   "cell_type": "code",
   "execution_count": 1,
   "metadata": {},
   "outputs": [],
   "source": [
    "# Dependencies and Setup\n",
    "import pandas as pd"
   ]
  },
  {
   "cell_type": "code",
   "execution_count": 2,
   "metadata": {},
   "outputs": [],
   "source": [
    "# File to Load (Remember to Change These)\n",
    "\n",
    "school_df = \"Resources/schools_complete.csv\"\n",
    "student_df = \"Resources/students_complete.csv\""
   ]
  },
  {
   "cell_type": "code",
   "execution_count": 3,
   "metadata": {},
   "outputs": [],
   "source": [
    "# Read School and Student Data File and store into Pandas DataFrames\n",
    "\n",
    "school_df = pd.read_csv(school_df)\n",
    "student_df = pd.read_csv(student_df)"
   ]
  },
  {
   "cell_type": "code",
   "execution_count": 4,
   "metadata": {},
   "outputs": [
    {
     "data": {
      "text/html": [
       "<div>\n",
       "<style scoped>\n",
       "    .dataframe tbody tr th:only-of-type {\n",
       "        vertical-align: middle;\n",
       "    }\n",
       "\n",
       "    .dataframe tbody tr th {\n",
       "        vertical-align: top;\n",
       "    }\n",
       "\n",
       "    .dataframe thead th {\n",
       "        text-align: right;\n",
       "    }\n",
       "</style>\n",
       "<table border=\"1\" class=\"dataframe\">\n",
       "  <thead>\n",
       "    <tr style=\"text-align: right;\">\n",
       "      <th></th>\n",
       "      <th>School ID</th>\n",
       "      <th>school_name</th>\n",
       "      <th>type</th>\n",
       "      <th>size</th>\n",
       "      <th>budget</th>\n",
       "    </tr>\n",
       "  </thead>\n",
       "  <tbody>\n",
       "    <tr>\n",
       "      <th>0</th>\n",
       "      <td>0</td>\n",
       "      <td>Huang High School</td>\n",
       "      <td>District</td>\n",
       "      <td>2917</td>\n",
       "      <td>1910635</td>\n",
       "    </tr>\n",
       "    <tr>\n",
       "      <th>1</th>\n",
       "      <td>1</td>\n",
       "      <td>Figueroa High School</td>\n",
       "      <td>District</td>\n",
       "      <td>2949</td>\n",
       "      <td>1884411</td>\n",
       "    </tr>\n",
       "    <tr>\n",
       "      <th>2</th>\n",
       "      <td>2</td>\n",
       "      <td>Shelton High School</td>\n",
       "      <td>Charter</td>\n",
       "      <td>1761</td>\n",
       "      <td>1056600</td>\n",
       "    </tr>\n",
       "    <tr>\n",
       "      <th>3</th>\n",
       "      <td>3</td>\n",
       "      <td>Hernandez High School</td>\n",
       "      <td>District</td>\n",
       "      <td>4635</td>\n",
       "      <td>3022020</td>\n",
       "    </tr>\n",
       "    <tr>\n",
       "      <th>4</th>\n",
       "      <td>4</td>\n",
       "      <td>Griffin High School</td>\n",
       "      <td>Charter</td>\n",
       "      <td>1468</td>\n",
       "      <td>917500</td>\n",
       "    </tr>\n",
       "  </tbody>\n",
       "</table>\n",
       "</div>"
      ],
      "text/plain": [
       "   School ID            school_name      type  size   budget\n",
       "0          0      Huang High School  District  2917  1910635\n",
       "1          1   Figueroa High School  District  2949  1884411\n",
       "2          2    Shelton High School   Charter  1761  1056600\n",
       "3          3  Hernandez High School  District  4635  3022020\n",
       "4          4    Griffin High School   Charter  1468   917500"
      ]
     },
     "execution_count": 4,
     "metadata": {},
     "output_type": "execute_result"
    }
   ],
   "source": [
    "school_df.head(5)"
   ]
  },
  {
   "cell_type": "code",
   "execution_count": 5,
   "metadata": {},
   "outputs": [
    {
     "data": {
      "text/html": [
       "<div>\n",
       "<style scoped>\n",
       "    .dataframe tbody tr th:only-of-type {\n",
       "        vertical-align: middle;\n",
       "    }\n",
       "\n",
       "    .dataframe tbody tr th {\n",
       "        vertical-align: top;\n",
       "    }\n",
       "\n",
       "    .dataframe thead th {\n",
       "        text-align: right;\n",
       "    }\n",
       "</style>\n",
       "<table border=\"1\" class=\"dataframe\">\n",
       "  <thead>\n",
       "    <tr style=\"text-align: right;\">\n",
       "      <th></th>\n",
       "      <th>Student ID</th>\n",
       "      <th>student_name</th>\n",
       "      <th>gender</th>\n",
       "      <th>grade</th>\n",
       "      <th>school_name</th>\n",
       "      <th>reading_score</th>\n",
       "      <th>math_score</th>\n",
       "    </tr>\n",
       "  </thead>\n",
       "  <tbody>\n",
       "    <tr>\n",
       "      <th>0</th>\n",
       "      <td>0</td>\n",
       "      <td>Paul Bradley</td>\n",
       "      <td>M</td>\n",
       "      <td>9th</td>\n",
       "      <td>Huang High School</td>\n",
       "      <td>66</td>\n",
       "      <td>79</td>\n",
       "    </tr>\n",
       "    <tr>\n",
       "      <th>1</th>\n",
       "      <td>1</td>\n",
       "      <td>Victor Smith</td>\n",
       "      <td>M</td>\n",
       "      <td>12th</td>\n",
       "      <td>Huang High School</td>\n",
       "      <td>94</td>\n",
       "      <td>61</td>\n",
       "    </tr>\n",
       "    <tr>\n",
       "      <th>2</th>\n",
       "      <td>2</td>\n",
       "      <td>Kevin Rodriguez</td>\n",
       "      <td>M</td>\n",
       "      <td>12th</td>\n",
       "      <td>Huang High School</td>\n",
       "      <td>90</td>\n",
       "      <td>60</td>\n",
       "    </tr>\n",
       "    <tr>\n",
       "      <th>3</th>\n",
       "      <td>3</td>\n",
       "      <td>Dr. Richard Scott</td>\n",
       "      <td>M</td>\n",
       "      <td>12th</td>\n",
       "      <td>Huang High School</td>\n",
       "      <td>67</td>\n",
       "      <td>58</td>\n",
       "    </tr>\n",
       "    <tr>\n",
       "      <th>4</th>\n",
       "      <td>4</td>\n",
       "      <td>Bonnie Ray</td>\n",
       "      <td>F</td>\n",
       "      <td>9th</td>\n",
       "      <td>Huang High School</td>\n",
       "      <td>97</td>\n",
       "      <td>84</td>\n",
       "    </tr>\n",
       "  </tbody>\n",
       "</table>\n",
       "</div>"
      ],
      "text/plain": [
       "   Student ID       student_name gender grade        school_name  \\\n",
       "0           0       Paul Bradley      M   9th  Huang High School   \n",
       "1           1       Victor Smith      M  12th  Huang High School   \n",
       "2           2    Kevin Rodriguez      M  12th  Huang High School   \n",
       "3           3  Dr. Richard Scott      M  12th  Huang High School   \n",
       "4           4         Bonnie Ray      F   9th  Huang High School   \n",
       "\n",
       "   reading_score  math_score  \n",
       "0             66          79  \n",
       "1             94          61  \n",
       "2             90          60  \n",
       "3             67          58  \n",
       "4             97          84  "
      ]
     },
     "execution_count": 5,
     "metadata": {},
     "output_type": "execute_result"
    }
   ],
   "source": [
    "student_df.head(5)"
   ]
  },
  {
   "cell_type": "code",
   "execution_count": 6,
   "metadata": {},
   "outputs": [],
   "source": [
    "# Combine the data into a single dataset.  \n",
    "comb_df = pd.merge(school_df, student_df, on=[\"school_name\"])"
   ]
  },
  {
   "cell_type": "code",
   "execution_count": 7,
   "metadata": {},
   "outputs": [
    {
     "data": {
      "text/html": [
       "<div>\n",
       "<style scoped>\n",
       "    .dataframe tbody tr th:only-of-type {\n",
       "        vertical-align: middle;\n",
       "    }\n",
       "\n",
       "    .dataframe tbody tr th {\n",
       "        vertical-align: top;\n",
       "    }\n",
       "\n",
       "    .dataframe thead th {\n",
       "        text-align: right;\n",
       "    }\n",
       "</style>\n",
       "<table border=\"1\" class=\"dataframe\">\n",
       "  <thead>\n",
       "    <tr style=\"text-align: right;\">\n",
       "      <th></th>\n",
       "      <th>School ID</th>\n",
       "      <th>school_name</th>\n",
       "      <th>type</th>\n",
       "      <th>size</th>\n",
       "      <th>budget</th>\n",
       "      <th>Student ID</th>\n",
       "      <th>student_name</th>\n",
       "      <th>gender</th>\n",
       "      <th>grade</th>\n",
       "      <th>reading_score</th>\n",
       "      <th>math_score</th>\n",
       "    </tr>\n",
       "  </thead>\n",
       "  <tbody>\n",
       "    <tr>\n",
       "      <th>0</th>\n",
       "      <td>0</td>\n",
       "      <td>Huang High School</td>\n",
       "      <td>District</td>\n",
       "      <td>2917</td>\n",
       "      <td>1910635</td>\n",
       "      <td>0</td>\n",
       "      <td>Paul Bradley</td>\n",
       "      <td>M</td>\n",
       "      <td>9th</td>\n",
       "      <td>66</td>\n",
       "      <td>79</td>\n",
       "    </tr>\n",
       "  </tbody>\n",
       "</table>\n",
       "</div>"
      ],
      "text/plain": [
       "   School ID        school_name      type  size   budget  Student ID  \\\n",
       "0          0  Huang High School  District  2917  1910635           0   \n",
       "\n",
       "   student_name gender grade  reading_score  math_score  \n",
       "0  Paul Bradley      M   9th             66          79  "
      ]
     },
     "execution_count": 7,
     "metadata": {},
     "output_type": "execute_result"
    }
   ],
   "source": [
    "comb_df.head(1)"
   ]
  },
  {
   "cell_type": "code",
   "execution_count": null,
   "metadata": {
    "scrolled": true
   },
   "outputs": [],
   "source": [
    "#  INFO comb_df.dtypes"
   ]
  },
  {
   "cell_type": "code",
   "execution_count": null,
   "metadata": {},
   "outputs": [],
   "source": [
    "rPass_df = comb_df[comb_df['reading_score'] >= 70]\n",
    "mPass_df = comb_df[comb_df['math_score'] >= 70]"
   ]
  },
  {
   "cell_type": "markdown",
   "metadata": {},
   "source": [
    "# Save^  vTest School Splits"
   ]
  },
  {
   "cell_type": "code",
   "execution_count": 8,
   "metadata": {},
   "outputs": [],
   "source": [
    "# Split DataFrames for each School\n",
    "hua_df = comb_df[comb_df['school_name'] == 'Huang High School']\n",
    "fig_df = comb_df[comb_df['school_name'] == 'Figueroa High School']\n",
    "she_df = comb_df[comb_df['school_name'] == 'Shelton High School']\n",
    "her_df = comb_df[comb_df['school_name'] == 'Hernandez High School']\n",
    "gri_df = comb_df[comb_df['school_name'] == 'Griffin High School']\n",
    "wil_df = comb_df[comb_df['school_name'] == 'Wilson High School']\n",
    "cab_df = comb_df[comb_df['school_name'] == 'Cabrera High School']\n",
    "bai_df = comb_df[comb_df['school_name'] == 'Bailey High School']\n",
    "hol_df = comb_df[comb_df['school_name'] == 'Holden High School']\n",
    "pen_df = comb_df[comb_df['school_name'] == 'Pena High School']\n",
    "wri_df = comb_df[comb_df['school_name'] == 'Wright High School']\n",
    "rod_df = comb_df[comb_df['school_name'] == 'Rodriquez High School']\n",
    "joh_df = comb_df[comb_df['school_name'] == 'Johnson High School']\n",
    "for_df = comb_df[comb_df['school_name'] == 'Ford High School']\n",
    "tho_df = comb_df[comb_df['school_name'] == 'Thomas High School']"
   ]
  },
  {
   "cell_type": "code",
   "execution_count": 9,
   "metadata": {},
   "outputs": [],
   "source": [
    "# Assign Variables to Total Student Counts by School\n",
    "huaSt = school_df.iloc[0, 3]\n",
    "figSt = school_df.iloc[1, 3]\n",
    "sheSt = school_df.iloc[2, 3]\n",
    "herSt = school_df.iloc[3, 3]\n",
    "griSt = school_df.iloc[4, 3]\n",
    "wilSt = school_df.iloc[5, 3]\n",
    "cabSt = school_df.iloc[6, 3]\n",
    "baiSt = school_df.iloc[7, 3]\n",
    "holSt = school_df.iloc[8, 3]\n",
    "penSt = school_df.iloc[9, 3]\n",
    "wriSt = school_df.iloc[10, 3]\n",
    "rodSt = school_df.iloc[11, 3]\n",
    "johSt = school_df.iloc[12, 3]\n",
    "forSt = school_df.iloc[13, 3]\n",
    "thoSt = school_df.iloc[14, 3]"
   ]
  },
  {
   "cell_type": "code",
   "execution_count": 25,
   "metadata": {},
   "outputs": [],
   "source": [
    "distSt = school_df[\"size\"].sum()"
   ]
  },
  {
   "cell_type": "code",
   "execution_count": 22,
   "metadata": {},
   "outputs": [],
   "source": [
    "# Assing Variables to Values for entire District\n",
    "pRdist = student_df.loc[(student_df[\"reading_score\"] >= 70), :].count()\n",
    "pMdist = student_df.loc[(student_df[\"math_score\"] >=70), :].count()\n",
    "pAdist = student_df.loc[(student_df[\"reading_score\"] >= 70) & (student_df[\"math_score\"] >=70), :].count()"
   ]
  },
  {
   "cell_type": "code",
   "execution_count": 26,
   "metadata": {},
   "outputs": [],
   "source": [
    "# More Variables for District -- Averages\n",
    "aRdist = student_df['reading_score'].mean()\n",
    "aMdist = student_df['math_score'].mean()\n",
    "\n",
    "# More Variables for District -- Percentages\n",
    "ppMdist = (pRdist/distSt)\n",
    "ppMdist = (pMdist/distSt)\n",
    "ppMdist = (pAdist/distSt)"
   ]
  },
  {
   "cell_type": "code",
   "execution_count": 10,
   "metadata": {},
   "outputs": [],
   "source": [
    "# Count Passing Students in 3 Criteria by School\n",
    "pRhua = hua_df.loc[(hua_df[\"reading_score\"] >= 70), :].count()\n",
    "pMhua = hua_df.loc[(hua_df[\"math_score\"] >=70), :].count()\n",
    "pAhua = hua_df.loc[(hua_df[\"reading_score\"] >= 70) & (hua_df[\"math_score\"] >=70), :].count()\n",
    "#----------------------------------------\n",
    "pRfig = fig_df.loc[(fig_df[\"reading_score\"] >= 70), :].count()\n",
    "pMfig = fig_df.loc[(fig_df[\"math_score\"] >=70), :].count()\n",
    "pAfig = fig_df.loc[(fig_df[\"reading_score\"] >= 70) & (fig_df[\"math_score\"] >=70), :].count()\n",
    "#----------------------------------------\n",
    "pRshe = she_df.loc[(she_df[\"reading_score\"] >= 70), :].count()\n",
    "pMshe = she_df.loc[(she_df[\"math_score\"] >=70), :].count()\n",
    "pAshe = she_df.loc[(she_df[\"reading_score\"] >= 70) & (she_df[\"math_score\"] >=70), :].count()\n",
    "#----------------------------------------\n",
    "pRher = her_df.loc[(her_df[\"reading_score\"] >= 70), :].count()\n",
    "pMher = her_df.loc[(her_df[\"math_score\"] >=70), :].count()\n",
    "pAher = her_df.loc[(her_df[\"reading_score\"] >= 70) & (her_df[\"math_score\"] >=70), :].count()\n",
    "#----------------------------------------\n",
    "pRgri = gri_df.loc[(gri_df[\"reading_score\"] >= 70), :].count()\n",
    "pMgri = gri_df.loc[(gri_df[\"math_score\"] >=70), :].count()\n",
    "pAgri = gri_df.loc[(gri_df[\"reading_score\"] >= 70) & (gri_df[\"math_score\"] >=70), :].count()\n",
    "#----------------------------------------\n",
    "pRwil = wil_df.loc[(wil_df[\"reading_score\"] >= 70), :].count()\n",
    "pMwil = wil_df.loc[(wil_df[\"math_score\"] >=70), :].count()\n",
    "pAwil = wil_df.loc[(wil_df[\"reading_score\"] >= 70) & (wil_df[\"math_score\"] >=70), :].count()\n",
    "#----------------------------------------\n",
    "pRcab = cab_df.loc[(cab_df[\"reading_score\"] >= 70), :].count()\n",
    "pMcab = cab_df.loc[(cab_df[\"math_score\"] >=70), :].count()\n",
    "pAcab = cab_df.loc[(cab_df[\"reading_score\"] >= 70) & (cab_df[\"math_score\"] >=70), :].count()\n",
    "#----------------------------------------\n",
    "pRbai = bai_df.loc[(bai_df[\"reading_score\"] >= 70), :].count()\n",
    "pMbai = bai_df.loc[(bai_df[\"math_score\"] >=70), :].count()\n",
    "pAbai = bai_df.loc[(bai_df[\"reading_score\"] >= 70) & (bai_df[\"math_score\"] >=70), :].count()\n",
    "#----------------------------------------\n",
    "pRhol = hol_df.loc[(hol_df[\"reading_score\"] >= 70), :].count()\n",
    "pMhol = hol_df.loc[(hol_df[\"math_score\"] >=70), :].count()\n",
    "pAhol = hol_df.loc[(hol_df[\"reading_score\"] >= 70) & (hol_df[\"math_score\"] >=70), :].count()\n",
    "#----------------------------------------\n",
    "pRpen = pen_df.loc[(pen_df[\"reading_score\"] >= 70), :].count()\n",
    "pMpen = pen_df.loc[(pen_df[\"math_score\"] >=70), :].count()\n",
    "pApen = pen_df.loc[(pen_df[\"reading_score\"] >= 70) & (pen_df[\"math_score\"] >=70), :].count()\n",
    "#----------------------------------------\n",
    "pRwri = wri_df.loc[(wri_df[\"reading_score\"] >= 70), :].count()\n",
    "pMwri = wri_df.loc[(wri_df[\"math_score\"] >=70), :].count()\n",
    "pAwri = wri_df.loc[(wri_df[\"reading_score\"] >= 70) & (wri_df[\"math_score\"] >=70), :].count()\n",
    "#----------------------------------------\n",
    "pRrod = rod_df.loc[(rod_df[\"reading_score\"] >= 70), :].count()\n",
    "pMrod = rod_df.loc[(rod_df[\"math_score\"] >=70), :].count()\n",
    "pArod = rod_df.loc[(rod_df[\"reading_score\"] >= 70) & (rod_df[\"math_score\"] >=70), :].count()\n",
    "#----------------------------------------\n",
    "pRjoh = joh_df.loc[(joh_df[\"reading_score\"] >= 70), :].count()\n",
    "pMjoh = joh_df.loc[(joh_df[\"math_score\"] >=70), :].count()\n",
    "pAjoh = joh_df.loc[(joh_df[\"reading_score\"] >= 70) & (joh_df[\"math_score\"] >=70), :].count()\n",
    "#----------------------------------------\n",
    "pRfor = for_df.loc[(for_df[\"reading_score\"] >= 70), :].count()\n",
    "pMfor = for_df.loc[(for_df[\"math_score\"] >=70), :].count()\n",
    "pAfor = for_df.loc[(for_df[\"reading_score\"] >= 70) & (for_df[\"math_score\"] >=70), :].count()\n",
    "#----------------------------------------\n",
    "pRtho = tho_df.loc[(tho_df[\"reading_score\"] >= 70), :].count()\n",
    "pMtho = tho_df.loc[(tho_df[\"math_score\"] >=70), :].count()\n",
    "pAtho = tho_df.loc[(tho_df[\"reading_score\"] >= 70) & (tho_df[\"math_score\"] >=70), :].count()\n"
   ]
  },
  {
   "cell_type": "code",
   "execution_count": 20,
   "metadata": {},
   "outputs": [],
   "source": [
    "# Assign Varables to Reading Averages by School\n",
    "aRhua = hua_df['reading_score'].mean()\n",
    "aRfig = fig_df['reading_score'].mean()\n",
    "aRshe = she_df['reading_score'].mean()\n",
    "aRher = her_df['reading_score'].mean()\n",
    "aRgri = gri_df['reading_score'].mean()\n",
    "aRwil = wil_df['reading_score'].mean()\n",
    "aRcab = cab_df['reading_score'].mean()\n",
    "aRbai = bai_df['reading_score'].mean()\n",
    "aRhol = hol_df['reading_score'].mean()\n",
    "aRpen = pen_df['reading_score'].mean()\n",
    "aRwri = wri_df['reading_score'].mean()\n",
    "aRrod = rod_df['reading_score'].mean()\n",
    "aRjoh = joh_df['reading_score'].mean()\n",
    "aRfor = for_df['reading_score'].mean()\n",
    "aRtho = tho_df['reading_score'].mean()"
   ]
  },
  {
   "cell_type": "code",
   "execution_count": null,
   "metadata": {},
   "outputs": [],
   "source": [
    "# Assign Varables to Math Averages by School math\n",
    "aMhua = hua_df['math_score'].mean()\n",
    "aMfig = fig_df['math_score'].mean()\n",
    "aMshe = she_df['math_score'].mean()\n",
    "aMher = her_df['math_score'].mean()\n",
    "aMgri = gri_df['math_score'].mean()\n",
    "aMwil = wil_df['math_score'].mean()\n",
    "aMcab = cab_df['math_score'].mean()\n",
    "aMbai = bai_df['math_score'].mean()\n",
    "aMhol = hol_df['math_score'].mean()\n",
    "aMpen = pen_df['math_score'].mean()\n",
    "aMwri = wri_df['math_score'].mean()\n",
    "aMrod = rod_df['math_score'].mean()\n",
    "aMjoh = joh_df['math_score'].mean()\n",
    "aMfor = for_df['math_score'].mean()\n",
    "aMtho = tho_df['math_score'].mean()"
   ]
  },
  {
   "cell_type": "code",
   "execution_count": null,
   "metadata": {},
   "outputs": [],
   "source": [
    "# Assign Varables to Reading Percentages by School\n",
    "ppRhua = (pRhua/huaSt)\n",
    "ppRfig = (pRfig/figSt)\n",
    "ppRshe = (pRshe/sheSt)\n",
    "ppRher = (pRher/herSt)\n",
    "ppRgri = (pRgri/griSt)\n",
    "ppRwil = (pRwil/wilSt)\n",
    "ppRcab = (pRcab/cabSt)\n",
    "ppRbai = (pRbai/baiSt)\n",
    "ppRhol = (pRhol/holSt)\n",
    "ppRpen = (pRpen/penSt)\n",
    "ppRwri = (pRwri/wriSt)\n",
    "ppRrod = (pRrod/rodSt)\n",
    "ppRjoh = (pRjoh/johSt)\n",
    "ppRfor = (pRfor/forSt)\n",
    "ppRtho = (pRtho/thoSt)"
   ]
  },
  {
   "cell_type": "code",
   "execution_count": null,
   "metadata": {},
   "outputs": [],
   "source": [
    "# Assign Varables to Math Percentages by School\n",
    "ppMhua = (pMhua/huaSt)\n",
    "ppMfig = (pMfig/figSt)\n",
    "ppMshe = (pMshe/sheSt)\n",
    "ppMher = (pMher/herSt)\n",
    "ppMgri = (pMgri/griSt)\n",
    "ppMwil = (pMwil/wilSt)\n",
    "ppMcab = (pMcab/cabSt)\n",
    "ppMbai = (pMbai/baiSt)\n",
    "ppMhol = (pMhol/holSt)\n",
    "ppMpen = (pMpen/penSt)\n",
    "ppMwri = (pMwri/wriSt)\n",
    "ppMrod = (pMrod/rodSt)\n",
    "ppMjoh = (pMjoh/johSt)\n",
    "ppMfor = (pMfor/forSt)\n",
    "ppMtho = (pMtho/thoSt)"
   ]
  },
  {
   "cell_type": "code",
   "execution_count": 23,
   "metadata": {},
   "outputs": [],
   "source": [
    "# Assign Varables to Overall Percentages by School\n",
    "ppAhua = (pAhua/huaSt)\n",
    "ppAfig = (pAfig/figSt)\n",
    "ppAshe = (pAshe/sheSt)\n",
    "ppAher = (pAher/herSt)\n",
    "ppAgri = (pAgri/griSt)\n",
    "ppAwil = (pAwil/wilSt)\n",
    "ppAcab = (pAcab/cabSt)\n",
    "ppAbai = (pAbai/baiSt)\n",
    "ppAhol = (pAhol/holSt)\n",
    "ppApen = (pApen/penSt)\n",
    "ppAwri = (pAwri/wriSt)\n",
    "ppArod = (pArod/rodSt)\n",
    "ppAjoh = (pAjoh/johSt)\n",
    "ppAfor = (pAfor/forSt)\n",
    "ppAtho = (pAtho/thoSt)"
   ]
  },
  {
   "cell_type": "code",
   "execution_count": null,
   "metadata": {},
   "outputs": [],
   "source": [
    "student_df[\"school_name\"].unique()"
   ]
  },
  {
   "cell_type": "markdown",
   "metadata": {},
   "source": [
    "##TEST\n",
    "spr_df = student_df.groupby([\"school_name\"])\n",
    "rpCt = student_df.loc[(student_df[\"reading_score\"] >= 70), :].count()\n",
    "mpCt = student_df.loc[(student_df[\"math_score\"] >= 70), :].count()\n",
    "cpCt = student_df.loc[(student_df[\"reading_score\"] >= 70) & (student_df[\"math_score\"] >= 70), :].count()\n",
    "\n",
    "rpCt, mpCt, cpCt"
   ]
  },
  {
   "cell_type": "code",
   "execution_count": null,
   "metadata": {},
   "outputs": [],
   "source": [
    "# TEST rHuang_ct = in student_df([\"school_name\"] == [\"Huang High School\"] & [\"reading_score\"] >= 70).count()"
   ]
  },
  {
   "cell_type": "code",
   "execution_count": null,
   "metadata": {},
   "outputs": [],
   "source": [
    "# rHuang_ct = [student_df(['school_name'] == ['Huang High School']) & (student_df[\"reading_score\"] >= 70)].count()"
   ]
  },
  {
   "cell_type": "markdown",
   "metadata": {},
   "source": [
    "## V these work for District Summary but not Schools"
   ]
  },
  {
   "cell_type": "code",
   "execution_count": null,
   "metadata": {},
   "outputs": [],
   "source": [
    "p_rDist_Ct = student_df.loc[(student_df[\"reading_score\"] >= 70), :].count()\n",
    "p_mDist_Ct = student_df.loc[(student_df[\"math_score\"] >=70), :].count()"
   ]
  },
  {
   "cell_type": "code",
   "execution_count": null,
   "metadata": {},
   "outputs": [],
   "source": [
    "p_cDist_Ct = student_df.loc[(student_df[\"reading_score\"] >= 70) & (student_df[\"math_score\"] >=70), :].count()\n",
    "p_rDist_Ct.head(1), p_mDist_Ct.head(1), p_cDist_Ct.head(1)"
   ]
  },
  {
   "cell_type": "code",
   "execution_count": null,
   "metadata": {},
   "outputs": [],
   "source": [
    "# INFO combined_df.dtypes"
   ]
  },
  {
   "cell_type": "markdown",
   "metadata": {},
   "source": [
    "## District Summary"
   ]
  },
  {
   "cell_type": "markdown",
   "metadata": {},
   "source": [
    "TEST"
   ]
  },
  {
   "cell_type": "code",
   "execution_count": null,
   "metadata": {},
   "outputs": [],
   "source": [
    "p_mSch_Ct = student_df.loc[(student_df[\"math_score\"] >=70), :].count()"
   ]
  },
  {
   "cell_type": "code",
   "execution_count": null,
   "metadata": {},
   "outputs": [],
   "source": [
    "p_mSch_Ct.head(1)  ## SCH ATTEMPT Fail"
   ]
  },
  {
   "cell_type": "code",
   "execution_count": null,
   "metadata": {},
   "outputs": [],
   "source": [
    "p_cDist_Ct = pass_Sch.loc[(pass_Sch[\"reading_score\"] >= 70) & (pass_Sch[\"math_score\"] >=70), :].count()"
   ]
  },
  {
   "cell_type": "markdown",
   "metadata": {},
   "source": [
    "TEST"
   ]
  },
  {
   "cell_type": "code",
   "execution_count": null,
   "metadata": {},
   "outputs": [],
   "source": [
    "# Calculate the total number of schools\n",
    "schoolCt = gr_Sch_df[\"school_name\"].nunique()"
   ]
  },
  {
   "cell_type": "code",
   "execution_count": null,
   "metadata": {},
   "outputs": [],
   "source": [
    "# Calculate the total number of students\n",
    "studDiCt = gr_Sch_df[\"student_name\"].count()"
   ]
  },
  {
   "cell_type": "code",
   "execution_count": null,
   "metadata": {},
   "outputs": [],
   "source": [
    "# Caluculate the total budget\n",
    "#schoolBudg = combined_df[\"budget\"]\n",
    "#distBudg = [\"school_name\",].nunique(schoolBudg).sum()"
   ]
  },
  {
   "cell_type": "code",
   "execution_count": null,
   "metadata": {},
   "outputs": [],
   "source": [
    "# Calculate the average math score\n",
    "mAvg = gr_Sch_df[\"math_score\"].mean()"
   ]
  },
  {
   "cell_type": "code",
   "execution_count": null,
   "metadata": {},
   "outputs": [],
   "source": [
    "# Calculate the average reading score\n",
    "rAvg = gr_Sch_df[\"reading_score\"].mean()"
   ]
  },
  {
   "cell_type": "code",
   "execution_count": null,
   "metadata": {},
   "outputs": [],
   "source": [
    "# Calculate the percentage of students with a passing math score (70 or greater)\n",
    "# ppMath = (gr_Sch_df[\"m_P/F\"].sum() / studDiCt)"
   ]
  },
  {
   "cell_type": "code",
   "execution_count": null,
   "metadata": {},
   "outputs": [],
   "source": [
    "# Calculate the percentage of students with a passing reading score (70 or greater)\n",
    "# ppRead = (gr_Sch_df[\"r_P/F\"].sum() / studDiCt)"
   ]
  },
  {
   "cell_type": "code",
   "execution_count": null,
   "metadata": {},
   "outputs": [],
   "source": [
    "# Calculate the percentage of students who passed math **and** reading (% Overall Passing)\n",
    "#ppBoth = (gr_Sch_df[\"b_P/F\"].sum() / studDiCt)"
   ]
  },
  {
   "cell_type": "code",
   "execution_count": null,
   "metadata": {},
   "outputs": [],
   "source": [
    "# Optional: give the displayed data cleaner formatting"
   ]
  },
  {
   "cell_type": "code",
   "execution_count": null,
   "metadata": {},
   "outputs": [],
   "source": [
    "# Create a dataframe to hold the above results\n",
    "# dist_summary = gr_Sch_df({'Total Schools': schoolCt, \n",
    "             # 'Total Students': studDiCt\n",
    "             # 'Total Budget': distBudg\n",
    "             # 'Average Math Score': mAvg\n",
    "             # 'Average Reading score': rAvg\n",
    "             # '% Passing Math': ppMath\n",
    "             # '% Passing Reading': ppRead\n",
    "             # '% Overall Passing': ppBoth})\n",
    "# dist_summary.head()"
   ]
  },
  {
   "cell_type": "code",
   "execution_count": null,
   "metadata": {},
   "outputs": [],
   "source": [
    "combined_df.head(1)"
   ]
  },
  {
   "cell_type": "markdown",
   "metadata": {},
   "source": [
    "## School Summary"
   ]
  },
  {
   "cell_type": "markdown",
   "metadata": {},
   "source": [
    "# WORKING -V- HERE"
   ]
  },
  {
   "cell_type": "code",
   "execution_count": 13,
   "metadata": {},
   "outputs": [
    {
     "ename": "TypeError",
     "evalue": "'type' object is not subscriptable",
     "output_type": "error",
     "traceback": [
      "\u001b[1;31m---------------------------------------------------------------------------\u001b[0m",
      "\u001b[1;31mTypeError\u001b[0m                                 Traceback (most recent call last)",
      "Input \u001b[1;32mIn [13]\u001b[0m, in \u001b[0;36m<cell line: 2>\u001b[1;34m()\u001b[0m\n\u001b[0;32m      1\u001b[0m \u001b[38;5;66;03m# Create lists and add them to the dataframe\u001b[39;00m\n\u001b[1;32m----> 2\u001b[0m rAvgs \u001b[38;5;241m=\u001b[39m \u001b[43mpd\u001b[49m\u001b[38;5;241;43m.\u001b[39;49m\u001b[43mSeries\u001b[49m\u001b[43m[\u001b[49m\u001b[43m(\u001b[49m\u001b[43mpRhua\u001b[49m\u001b[43m \u001b[49m\u001b[38;5;241;43m/\u001b[39;49m\u001b[43m \u001b[49m\u001b[43mhuaSt\u001b[49m\u001b[43m)\u001b[49m\u001b[43m]\u001b[49m, \u001b[38;5;66;03m#(pRfig) / (figSt), (pRshe) / (sheSt), (pRher) / (herSt), (pRgri) / (griSt), \\\u001b[39;00m\n\u001b[0;32m      3\u001b[0m                   \u001b[38;5;66;03m#(pRwil) / (wilSt), (pRcab) / (cabSt), (pRbai) / (baiSt), (pRhol) / (holSt), (pRpen) / (penSt), \\\u001b[39;00m\n\u001b[0;32m      4\u001b[0m                   \u001b[38;5;66;03m#(pRwri) / (wriSt), (pRrod) / (rodSt), (pRjoh) / (johSt), (pRfor) / (forSt), (pRtho) / (thoSt)]\u001b[39;00m\n\u001b[0;32m      6\u001b[0m pRavg_list \u001b[38;5;241m=\u001b[39m pd\u001b[38;5;241m.\u001b[39mSeries(rAvgs, index \u001b[38;5;241m=\u001b[39m [\u001b[38;5;124m\"\u001b[39m\u001b[38;5;124m%\u001b[39m\u001b[38;5;124m Passing Math\u001b[39m\u001b[38;5;124m\"\u001b[39m])\n",
      "\u001b[1;31mTypeError\u001b[0m: 'type' object is not subscriptable"
     ]
    }
   ],
   "source": [
    "# Create lists and add them to the dataframe\n",
    "rAvgs = pd.Series[(pRhua / huaSt)], #(pRfig) / (figSt), (pRshe) / (sheSt), (pRher) / (herSt), (pRgri) / (griSt), \\\n",
    "                  #(pRwil) / (wilSt), (pRcab) / (cabSt), (pRbai) / (baiSt), (pRhol) / (holSt), (pRpen) / (penSt), \\\n",
    "                  #(pRwri) / (wriSt), (pRrod) / (rodSt), (pRjoh) / (johSt), (pRfor) / (forSt), (pRtho) / (thoSt)]\n",
    "\n",
    "pRavg_list = pd.Series(rAvgs, index = [\"% Passing Math\"])\n",
    "\n",
    "print(pRavg)"
   ]
  },
  {
   "cell_type": "code",
   "execution_count": null,
   "metadata": {},
   "outputs": [],
   "source": [
    "a = [1, 7, 2]\n",
    "\n",
    "myvar = pd.Series(a, index = [\"x\", \"y\", \"z\"])\n",
    "\n",
    "print(myvar)"
   ]
  },
  {
   "cell_type": "code",
   "execution_count": null,
   "metadata": {},
   "outputs": [],
   "source": [
    "# Create a Summary DataFrame for school results"
   ]
  },
  {
   "cell_type": "code",
   "execution_count": null,
   "metadata": {},
   "outputs": [],
   "source": [
    "sch_sum_df = pd.DataFrame({\n",
    "        \"School Name\": [\"Huang High School\", \"Figueroa High School\", \"Shelton High School\", \"Hernandez High School\", \"Griffin High School\",\\\n",
    "        \"Wilson High School\", \"Cabrera High School\", \"Bailey High School\", \"Holden High School\", \"Pena High School\", \\\n",
    "        \"Wright High School\", \"Rodriguez High School\", \"Johnson High School\", \"Ford High School\", \"Thomas High School\"],\n",
    "        \"School Type\":                  })\n",
    "\n",
    "# School Type\n",
    "typeSch = combined_df[\"type\"]\n",
    "# Total Students\n",
    "studCt = combined_df[\"size\"]\n",
    "# Total School Budget\n",
    "schoolBudg = combined_df[\"budget\"]\n",
    "# Per Student Budget\n",
    "iBudg = (schoolBudg / studCt)\n",
    "# Average Math Score\n",
    "mSchAvg = ##perschool##\"math_score\"().mean\n",
    "# Average Reading Score\n",
    "rSchAvg = ##perschool##\"reading_score\"().mean\n",
    "# % Passing Math\n",
    "ppMath##perschool##().mean\n",
    "# % Passing Reading\n",
    "ppReading##perschool##.mean\n",
    "# % Overall Passing (The percentage of students that passed math **and** reading.)\n",
    "ppBothper##perschool##().mean\n",
    "  "
   ]
  },
  {
   "cell_type": "code",
   "execution_count": null,
   "metadata": {},
   "outputs": [],
   "source": []
  },
  {
   "cell_type": "markdown",
   "metadata": {},
   "source": [
    "## Top Performing Schools (By % Overall Passing)"
   ]
  },
  {
   "cell_type": "markdown",
   "metadata": {},
   "source": [
    "* Sort and display the top five performing schools by % overall passing."
   ]
  },
  {
   "cell_type": "code",
   "execution_count": null,
   "metadata": {
    "scrolled": true
   },
   "outputs": [],
   "source": [
    "#create a dataframe groped by Overall Passing per School\n",
    "oPass_df = gr_Sch_df.groupby([\"sch_summary.ascend=True "
   ]
  },
  {
   "cell_type": "markdown",
   "metadata": {},
   "source": [
    "## Bottom Performing Schools (By % Overall Passing)"
   ]
  },
  {
   "cell_type": "markdown",
   "metadata": {},
   "source": [
    "* Sort and display the five worst-performing schools by % overall passing."
   ]
  },
  {
   "cell_type": "code",
   "execution_count": null,
   "metadata": {},
   "outputs": [],
   "source": [
    "sch_summary.ascend=False"
   ]
  },
  {
   "cell_type": "markdown",
   "metadata": {
    "collapsed": true
   },
   "source": [
    "## Math Scores by Grade"
   ]
  },
  {
   "cell_type": "markdown",
   "metadata": {},
   "source": [
    "* Create a table that lists the average Reading Score for students of each grade level (9th, 10th, 11th, 12th) at each school.\n",
    "\n",
    "  * Create a pandas series for each grade. Hint: use a conditional statement.\n",
    "  \n",
    "  * Group each series by school\n",
    "  \n",
    "  * Combine the series into a dataframe\n",
    "  \n",
    "  * Optional: give the displayed data cleaner formatting"
   ]
  },
  {
   "cell_type": "code",
   "execution_count": null,
   "metadata": {},
   "outputs": [],
   "source": [
    "studByYr_summary = gr_Sch_df({' ': school_name, \n",
    "              '9th': mAvg\n",
    "              '10th': mAvg\n",
    "              '11th': mAvg\n",
    "              '12th': mAvg"
   ]
  },
  {
   "cell_type": "markdown",
   "metadata": {},
   "source": [
    "## Reading Score by Grade "
   ]
  },
  {
   "cell_type": "markdown",
   "metadata": {},
   "source": [
    "* Perform the same operations as above for reading scores"
   ]
  },
  {
   "cell_type": "code",
   "execution_count": null,
   "metadata": {},
   "outputs": [],
   "source": [
    "studByYr_summary = gr_Sch_df({' ': school_name, \n",
    "              '9th': rAvg\n",
    "              '10th': rAvg\n",
    "              '11th': rAvg\n",
    "              '12th': rAvg"
   ]
  },
  {
   "cell_type": "markdown",
   "metadata": {},
   "source": [
    "## Scores by School Spending"
   ]
  },
  {
   "cell_type": "markdown",
   "metadata": {},
   "source": [
    "* Create a table that breaks down school performances based on average Spending Ranges (Per Student). Use 4 reasonable bins to group school spending. Include in the table each of the following:\n",
    "  * Average Math Score\n",
    "  * Average Reading Score\n",
    "  * % Passing Math\n",
    "  * % Passing Reading\n",
    "  * Overall Passing Rate (Average of the above two)"
   ]
  },
  {
   "cell_type": "code",
   "execution_count": null,
   "metadata": {},
   "outputs": [],
   "source": []
  },
  {
   "cell_type": "markdown",
   "metadata": {},
   "source": [
    "## Scores by School Size"
   ]
  },
  {
   "cell_type": "markdown",
   "metadata": {},
   "source": [
    "* Perform the same operations as above, based on school size."
   ]
  },
  {
   "cell_type": "code",
   "execution_count": null,
   "metadata": {
    "scrolled": true
   },
   "outputs": [],
   "source": []
  },
  {
   "cell_type": "markdown",
   "metadata": {},
   "source": [
    "## Scores by School Type"
   ]
  },
  {
   "cell_type": "markdown",
   "metadata": {},
   "source": [
    "* Perform the same operations as above, based on school type"
   ]
  },
  {
   "cell_type": "code",
   "execution_count": null,
   "metadata": {},
   "outputs": [],
   "source": []
  },
  {
   "cell_type": "code",
   "execution_count": null,
   "metadata": {},
   "outputs": [],
   "source": []
  }
 ],
 "metadata": {
  "anaconda-cloud": {},
  "kernel_info": {
   "name": "python3"
  },
  "kernelspec": {
   "display_name": "PythonData38",
   "language": "python",
   "name": "pythondata38"
  },
  "language_info": {
   "codemirror_mode": {
    "name": "ipython",
    "version": 3
   },
   "file_extension": ".py",
   "mimetype": "text/x-python",
   "name": "python",
   "nbconvert_exporter": "python",
   "pygments_lexer": "ipython3",
   "version": "3.9.12"
  },
  "latex_envs": {
   "LaTeX_envs_menu_present": true,
   "autoclose": false,
   "autocomplete": true,
   "bibliofile": "biblio.bib",
   "cite_by": "apalike",
   "current_citInitial": 1,
   "eqLabelWithNumbers": true,
   "eqNumInitial": 1,
   "hotkeys": {
    "equation": "Ctrl-E",
    "itemize": "Ctrl-I"
   },
   "labels_anchors": false,
   "latex_user_defs": false,
   "report_style_numbering": false,
   "user_envs_cfg": false
  },
  "nteract": {
   "version": "0.8.4"
  }
 },
 "nbformat": 4,
 "nbformat_minor": 1
}
