{
 "cells": [
  {
   "cell_type": "code",
   "execution_count": 1,
   "metadata": {},
   "outputs": [],
   "source": [
    "# Dependencies and Setup\n",
    "import pandas as pd"
   ]
  },
  {
   "cell_type": "code",
   "execution_count": 2,
   "metadata": {},
   "outputs": [],
   "source": [
    "# File to Load (Remember to Change These)\n",
    "\n",
    "school_df = \"Resources/schools_complete.csv\"\n",
    "student_df = \"Resources/students_complete.csv\""
   ]
  },
  {
   "cell_type": "code",
   "execution_count": 3,
   "metadata": {},
   "outputs": [],
   "source": [
    "# Read School and Student Data File and store into Pandas DataFrames\n",
    "\n",
    "school_df = pd.read_csv(school_df)\n",
    "student_df = pd.read_csv(student_df)"
   ]
  },
  {
   "cell_type": "code",
   "execution_count": 4,
   "metadata": {},
   "outputs": [
    {
     "data": {
      "text/html": [
       "<div>\n",
       "<style scoped>\n",
       "    .dataframe tbody tr th:only-of-type {\n",
       "        vertical-align: middle;\n",
       "    }\n",
       "\n",
       "    .dataframe tbody tr th {\n",
       "        vertical-align: top;\n",
       "    }\n",
       "\n",
       "    .dataframe thead th {\n",
       "        text-align: right;\n",
       "    }\n",
       "</style>\n",
       "<table border=\"1\" class=\"dataframe\">\n",
       "  <thead>\n",
       "    <tr style=\"text-align: right;\">\n",
       "      <th></th>\n",
       "      <th>School ID</th>\n",
       "      <th>school_name</th>\n",
       "      <th>type</th>\n",
       "      <th>size</th>\n",
       "      <th>budget</th>\n",
       "    </tr>\n",
       "  </thead>\n",
       "  <tbody>\n",
       "    <tr>\n",
       "      <th>0</th>\n",
       "      <td>0</td>\n",
       "      <td>Huang High School</td>\n",
       "      <td>District</td>\n",
       "      <td>2917</td>\n",
       "      <td>1910635</td>\n",
       "    </tr>\n",
       "  </tbody>\n",
       "</table>\n",
       "</div>"
      ],
      "text/plain": [
       "   School ID        school_name      type  size   budget\n",
       "0          0  Huang High School  District  2917  1910635"
      ]
     },
     "execution_count": 4,
     "metadata": {},
     "output_type": "execute_result"
    }
   ],
   "source": [
    "school_df.head(1)"
   ]
  },
  {
   "cell_type": "code",
   "execution_count": 5,
   "metadata": {},
   "outputs": [],
   "source": [
    "school_df['stBud'] = (school_df['budget']) / (school_df['size'])"
   ]
  },
  {
   "cell_type": "code",
   "execution_count": 6,
   "metadata": {},
   "outputs": [
    {
     "data": {
      "text/html": [
       "<div>\n",
       "<style scoped>\n",
       "    .dataframe tbody tr th:only-of-type {\n",
       "        vertical-align: middle;\n",
       "    }\n",
       "\n",
       "    .dataframe tbody tr th {\n",
       "        vertical-align: top;\n",
       "    }\n",
       "\n",
       "    .dataframe thead th {\n",
       "        text-align: right;\n",
       "    }\n",
       "</style>\n",
       "<table border=\"1\" class=\"dataframe\">\n",
       "  <thead>\n",
       "    <tr style=\"text-align: right;\">\n",
       "      <th></th>\n",
       "      <th>School ID</th>\n",
       "      <th>school_name</th>\n",
       "      <th>type</th>\n",
       "      <th>size</th>\n",
       "      <th>budget</th>\n",
       "      <th>stBud</th>\n",
       "    </tr>\n",
       "  </thead>\n",
       "  <tbody>\n",
       "    <tr>\n",
       "      <th>0</th>\n",
       "      <td>0</td>\n",
       "      <td>Huang High School</td>\n",
       "      <td>District</td>\n",
       "      <td>2917</td>\n",
       "      <td>1910635</td>\n",
       "      <td>655.0</td>\n",
       "    </tr>\n",
       "    <tr>\n",
       "      <th>1</th>\n",
       "      <td>1</td>\n",
       "      <td>Figueroa High School</td>\n",
       "      <td>District</td>\n",
       "      <td>2949</td>\n",
       "      <td>1884411</td>\n",
       "      <td>639.0</td>\n",
       "    </tr>\n",
       "    <tr>\n",
       "      <th>2</th>\n",
       "      <td>2</td>\n",
       "      <td>Shelton High School</td>\n",
       "      <td>Charter</td>\n",
       "      <td>1761</td>\n",
       "      <td>1056600</td>\n",
       "      <td>600.0</td>\n",
       "    </tr>\n",
       "    <tr>\n",
       "      <th>3</th>\n",
       "      <td>3</td>\n",
       "      <td>Hernandez High School</td>\n",
       "      <td>District</td>\n",
       "      <td>4635</td>\n",
       "      <td>3022020</td>\n",
       "      <td>652.0</td>\n",
       "    </tr>\n",
       "    <tr>\n",
       "      <th>4</th>\n",
       "      <td>4</td>\n",
       "      <td>Griffin High School</td>\n",
       "      <td>Charter</td>\n",
       "      <td>1468</td>\n",
       "      <td>917500</td>\n",
       "      <td>625.0</td>\n",
       "    </tr>\n",
       "  </tbody>\n",
       "</table>\n",
       "</div>"
      ],
      "text/plain": [
       "   School ID            school_name      type  size   budget  stBud\n",
       "0          0      Huang High School  District  2917  1910635  655.0\n",
       "1          1   Figueroa High School  District  2949  1884411  639.0\n",
       "2          2    Shelton High School   Charter  1761  1056600  600.0\n",
       "3          3  Hernandez High School  District  4635  3022020  652.0\n",
       "4          4    Griffin High School   Charter  1468   917500  625.0"
      ]
     },
     "execution_count": 6,
     "metadata": {},
     "output_type": "execute_result"
    }
   ],
   "source": [
    "school_df.head()"
   ]
  },
  {
   "cell_type": "code",
   "execution_count": 7,
   "metadata": {},
   "outputs": [
    {
     "data": {
      "text/html": [
       "<div>\n",
       "<style scoped>\n",
       "    .dataframe tbody tr th:only-of-type {\n",
       "        vertical-align: middle;\n",
       "    }\n",
       "\n",
       "    .dataframe tbody tr th {\n",
       "        vertical-align: top;\n",
       "    }\n",
       "\n",
       "    .dataframe thead th {\n",
       "        text-align: right;\n",
       "    }\n",
       "</style>\n",
       "<table border=\"1\" class=\"dataframe\">\n",
       "  <thead>\n",
       "    <tr style=\"text-align: right;\">\n",
       "      <th></th>\n",
       "      <th>Student ID</th>\n",
       "      <th>student_name</th>\n",
       "      <th>gender</th>\n",
       "      <th>grade</th>\n",
       "      <th>school_name</th>\n",
       "      <th>reading_score</th>\n",
       "      <th>math_score</th>\n",
       "    </tr>\n",
       "  </thead>\n",
       "  <tbody>\n",
       "    <tr>\n",
       "      <th>0</th>\n",
       "      <td>0</td>\n",
       "      <td>Paul Bradley</td>\n",
       "      <td>M</td>\n",
       "      <td>9th</td>\n",
       "      <td>Huang High School</td>\n",
       "      <td>66</td>\n",
       "      <td>79</td>\n",
       "    </tr>\n",
       "  </tbody>\n",
       "</table>\n",
       "</div>"
      ],
      "text/plain": [
       "   Student ID  student_name gender grade        school_name  reading_score  \\\n",
       "0           0  Paul Bradley      M   9th  Huang High School             66   \n",
       "\n",
       "   math_score  \n",
       "0          79  "
      ]
     },
     "execution_count": 7,
     "metadata": {},
     "output_type": "execute_result"
    }
   ],
   "source": [
    "student_df.head(1)"
   ]
  },
  {
   "cell_type": "code",
   "execution_count": 8,
   "metadata": {},
   "outputs": [],
   "source": [
    "## Create Columns That Assume Fail before 70+ Result\n",
    "student_df['pRead'] = False\n",
    "student_df['pMath'] = False\n",
    "student_df['pComb'] = False"
   ]
  },
  {
   "cell_type": "code",
   "execution_count": 9,
   "metadata": {},
   "outputs": [
    {
     "data": {
      "text/html": [
       "<div>\n",
       "<style scoped>\n",
       "    .dataframe tbody tr th:only-of-type {\n",
       "        vertical-align: middle;\n",
       "    }\n",
       "\n",
       "    .dataframe tbody tr th {\n",
       "        vertical-align: top;\n",
       "    }\n",
       "\n",
       "    .dataframe thead th {\n",
       "        text-align: right;\n",
       "    }\n",
       "</style>\n",
       "<table border=\"1\" class=\"dataframe\">\n",
       "  <thead>\n",
       "    <tr style=\"text-align: right;\">\n",
       "      <th></th>\n",
       "      <th>Student ID</th>\n",
       "      <th>student_name</th>\n",
       "      <th>gender</th>\n",
       "      <th>grade</th>\n",
       "      <th>school_name</th>\n",
       "      <th>reading_score</th>\n",
       "      <th>math_score</th>\n",
       "      <th>pRead</th>\n",
       "      <th>pMath</th>\n",
       "      <th>pComb</th>\n",
       "    </tr>\n",
       "  </thead>\n",
       "  <tbody>\n",
       "    <tr>\n",
       "      <th>0</th>\n",
       "      <td>0</td>\n",
       "      <td>Paul Bradley</td>\n",
       "      <td>M</td>\n",
       "      <td>9th</td>\n",
       "      <td>Huang High School</td>\n",
       "      <td>66</td>\n",
       "      <td>79</td>\n",
       "      <td>False</td>\n",
       "      <td>True</td>\n",
       "      <td>False</td>\n",
       "    </tr>\n",
       "    <tr>\n",
       "      <th>1</th>\n",
       "      <td>1</td>\n",
       "      <td>Victor Smith</td>\n",
       "      <td>M</td>\n",
       "      <td>12th</td>\n",
       "      <td>Huang High School</td>\n",
       "      <td>94</td>\n",
       "      <td>61</td>\n",
       "      <td>True</td>\n",
       "      <td>False</td>\n",
       "      <td>False</td>\n",
       "    </tr>\n",
       "    <tr>\n",
       "      <th>2</th>\n",
       "      <td>2</td>\n",
       "      <td>Kevin Rodriguez</td>\n",
       "      <td>M</td>\n",
       "      <td>12th</td>\n",
       "      <td>Huang High School</td>\n",
       "      <td>90</td>\n",
       "      <td>60</td>\n",
       "      <td>True</td>\n",
       "      <td>False</td>\n",
       "      <td>False</td>\n",
       "    </tr>\n",
       "    <tr>\n",
       "      <th>3</th>\n",
       "      <td>3</td>\n",
       "      <td>Dr. Richard Scott</td>\n",
       "      <td>M</td>\n",
       "      <td>12th</td>\n",
       "      <td>Huang High School</td>\n",
       "      <td>67</td>\n",
       "      <td>58</td>\n",
       "      <td>False</td>\n",
       "      <td>False</td>\n",
       "      <td>False</td>\n",
       "    </tr>\n",
       "    <tr>\n",
       "      <th>4</th>\n",
       "      <td>4</td>\n",
       "      <td>Bonnie Ray</td>\n",
       "      <td>F</td>\n",
       "      <td>9th</td>\n",
       "      <td>Huang High School</td>\n",
       "      <td>97</td>\n",
       "      <td>84</td>\n",
       "      <td>True</td>\n",
       "      <td>True</td>\n",
       "      <td>True</td>\n",
       "    </tr>\n",
       "    <tr>\n",
       "      <th>5</th>\n",
       "      <td>5</td>\n",
       "      <td>Bryan Miranda</td>\n",
       "      <td>M</td>\n",
       "      <td>9th</td>\n",
       "      <td>Huang High School</td>\n",
       "      <td>94</td>\n",
       "      <td>94</td>\n",
       "      <td>True</td>\n",
       "      <td>True</td>\n",
       "      <td>True</td>\n",
       "    </tr>\n",
       "    <tr>\n",
       "      <th>6</th>\n",
       "      <td>6</td>\n",
       "      <td>Sheena Carter</td>\n",
       "      <td>F</td>\n",
       "      <td>11th</td>\n",
       "      <td>Huang High School</td>\n",
       "      <td>82</td>\n",
       "      <td>80</td>\n",
       "      <td>True</td>\n",
       "      <td>True</td>\n",
       "      <td>True</td>\n",
       "    </tr>\n",
       "    <tr>\n",
       "      <th>7</th>\n",
       "      <td>7</td>\n",
       "      <td>Nicole Baker</td>\n",
       "      <td>F</td>\n",
       "      <td>12th</td>\n",
       "      <td>Huang High School</td>\n",
       "      <td>96</td>\n",
       "      <td>69</td>\n",
       "      <td>True</td>\n",
       "      <td>False</td>\n",
       "      <td>False</td>\n",
       "    </tr>\n",
       "    <tr>\n",
       "      <th>8</th>\n",
       "      <td>8</td>\n",
       "      <td>Michael Roth</td>\n",
       "      <td>M</td>\n",
       "      <td>10th</td>\n",
       "      <td>Huang High School</td>\n",
       "      <td>95</td>\n",
       "      <td>87</td>\n",
       "      <td>True</td>\n",
       "      <td>True</td>\n",
       "      <td>True</td>\n",
       "    </tr>\n",
       "    <tr>\n",
       "      <th>9</th>\n",
       "      <td>9</td>\n",
       "      <td>Matthew Greene</td>\n",
       "      <td>M</td>\n",
       "      <td>10th</td>\n",
       "      <td>Huang High School</td>\n",
       "      <td>96</td>\n",
       "      <td>84</td>\n",
       "      <td>True</td>\n",
       "      <td>True</td>\n",
       "      <td>True</td>\n",
       "    </tr>\n",
       "    <tr>\n",
       "      <th>10</th>\n",
       "      <td>10</td>\n",
       "      <td>Andrew Alexander</td>\n",
       "      <td>M</td>\n",
       "      <td>10th</td>\n",
       "      <td>Huang High School</td>\n",
       "      <td>90</td>\n",
       "      <td>70</td>\n",
       "      <td>True</td>\n",
       "      <td>True</td>\n",
       "      <td>True</td>\n",
       "    </tr>\n",
       "    <tr>\n",
       "      <th>11</th>\n",
       "      <td>11</td>\n",
       "      <td>Daniel Cooper</td>\n",
       "      <td>M</td>\n",
       "      <td>10th</td>\n",
       "      <td>Huang High School</td>\n",
       "      <td>78</td>\n",
       "      <td>77</td>\n",
       "      <td>True</td>\n",
       "      <td>True</td>\n",
       "      <td>True</td>\n",
       "    </tr>\n",
       "    <tr>\n",
       "      <th>12</th>\n",
       "      <td>12</td>\n",
       "      <td>Brittney Walker</td>\n",
       "      <td>F</td>\n",
       "      <td>9th</td>\n",
       "      <td>Huang High School</td>\n",
       "      <td>64</td>\n",
       "      <td>79</td>\n",
       "      <td>False</td>\n",
       "      <td>True</td>\n",
       "      <td>False</td>\n",
       "    </tr>\n",
       "    <tr>\n",
       "      <th>13</th>\n",
       "      <td>13</td>\n",
       "      <td>William Long</td>\n",
       "      <td>M</td>\n",
       "      <td>9th</td>\n",
       "      <td>Huang High School</td>\n",
       "      <td>71</td>\n",
       "      <td>79</td>\n",
       "      <td>True</td>\n",
       "      <td>True</td>\n",
       "      <td>True</td>\n",
       "    </tr>\n",
       "    <tr>\n",
       "      <th>14</th>\n",
       "      <td>14</td>\n",
       "      <td>Tammy Hebert</td>\n",
       "      <td>F</td>\n",
       "      <td>10th</td>\n",
       "      <td>Huang High School</td>\n",
       "      <td>85</td>\n",
       "      <td>67</td>\n",
       "      <td>True</td>\n",
       "      <td>False</td>\n",
       "      <td>False</td>\n",
       "    </tr>\n",
       "    <tr>\n",
       "      <th>15</th>\n",
       "      <td>15</td>\n",
       "      <td>Dr. Jordan Carson</td>\n",
       "      <td>M</td>\n",
       "      <td>11th</td>\n",
       "      <td>Huang High School</td>\n",
       "      <td>94</td>\n",
       "      <td>88</td>\n",
       "      <td>True</td>\n",
       "      <td>True</td>\n",
       "      <td>True</td>\n",
       "    </tr>\n",
       "    <tr>\n",
       "      <th>16</th>\n",
       "      <td>16</td>\n",
       "      <td>Donald Zamora</td>\n",
       "      <td>M</td>\n",
       "      <td>9th</td>\n",
       "      <td>Huang High School</td>\n",
       "      <td>88</td>\n",
       "      <td>55</td>\n",
       "      <td>True</td>\n",
       "      <td>False</td>\n",
       "      <td>False</td>\n",
       "    </tr>\n",
       "    <tr>\n",
       "      <th>17</th>\n",
       "      <td>17</td>\n",
       "      <td>Kimberly Santiago</td>\n",
       "      <td>F</td>\n",
       "      <td>9th</td>\n",
       "      <td>Huang High School</td>\n",
       "      <td>74</td>\n",
       "      <td>75</td>\n",
       "      <td>True</td>\n",
       "      <td>True</td>\n",
       "      <td>True</td>\n",
       "    </tr>\n",
       "    <tr>\n",
       "      <th>18</th>\n",
       "      <td>18</td>\n",
       "      <td>Kevin Stevens</td>\n",
       "      <td>M</td>\n",
       "      <td>9th</td>\n",
       "      <td>Huang High School</td>\n",
       "      <td>64</td>\n",
       "      <td>69</td>\n",
       "      <td>False</td>\n",
       "      <td>False</td>\n",
       "      <td>False</td>\n",
       "    </tr>\n",
       "    <tr>\n",
       "      <th>19</th>\n",
       "      <td>19</td>\n",
       "      <td>Brandi Lyons</td>\n",
       "      <td>F</td>\n",
       "      <td>9th</td>\n",
       "      <td>Huang High School</td>\n",
       "      <td>89</td>\n",
       "      <td>80</td>\n",
       "      <td>True</td>\n",
       "      <td>True</td>\n",
       "      <td>True</td>\n",
       "    </tr>\n",
       "  </tbody>\n",
       "</table>\n",
       "</div>"
      ],
      "text/plain": [
       "    Student ID       student_name gender grade        school_name  \\\n",
       "0            0       Paul Bradley      M   9th  Huang High School   \n",
       "1            1       Victor Smith      M  12th  Huang High School   \n",
       "2            2    Kevin Rodriguez      M  12th  Huang High School   \n",
       "3            3  Dr. Richard Scott      M  12th  Huang High School   \n",
       "4            4         Bonnie Ray      F   9th  Huang High School   \n",
       "5            5      Bryan Miranda      M   9th  Huang High School   \n",
       "6            6      Sheena Carter      F  11th  Huang High School   \n",
       "7            7       Nicole Baker      F  12th  Huang High School   \n",
       "8            8       Michael Roth      M  10th  Huang High School   \n",
       "9            9     Matthew Greene      M  10th  Huang High School   \n",
       "10          10   Andrew Alexander      M  10th  Huang High School   \n",
       "11          11      Daniel Cooper      M  10th  Huang High School   \n",
       "12          12    Brittney Walker      F   9th  Huang High School   \n",
       "13          13       William Long      M   9th  Huang High School   \n",
       "14          14       Tammy Hebert      F  10th  Huang High School   \n",
       "15          15  Dr. Jordan Carson      M  11th  Huang High School   \n",
       "16          16      Donald Zamora      M   9th  Huang High School   \n",
       "17          17  Kimberly Santiago      F   9th  Huang High School   \n",
       "18          18      Kevin Stevens      M   9th  Huang High School   \n",
       "19          19       Brandi Lyons      F   9th  Huang High School   \n",
       "\n",
       "    reading_score  math_score  pRead  pMath  pComb  \n",
       "0              66          79  False   True  False  \n",
       "1              94          61   True  False  False  \n",
       "2              90          60   True  False  False  \n",
       "3              67          58  False  False  False  \n",
       "4              97          84   True   True   True  \n",
       "5              94          94   True   True   True  \n",
       "6              82          80   True   True   True  \n",
       "7              96          69   True  False  False  \n",
       "8              95          87   True   True   True  \n",
       "9              96          84   True   True   True  \n",
       "10             90          70   True   True   True  \n",
       "11             78          77   True   True   True  \n",
       "12             64          79  False   True  False  \n",
       "13             71          79   True   True   True  \n",
       "14             85          67   True  False  False  \n",
       "15             94          88   True   True   True  \n",
       "16             88          55   True  False  False  \n",
       "17             74          75   True   True   True  \n",
       "18             64          69  False  False  False  \n",
       "19             89          80   True   True   True  "
      ]
     },
     "execution_count": 9,
     "metadata": {},
     "output_type": "execute_result"
    }
   ],
   "source": [
    "## Edit Columns for successful students to Pass\n",
    "student_df.loc[student_df['reading_score'] >= 70, 'pRead'] = True\n",
    "student_df.loc[student_df['math_score'] >= 70, 'pMath'] = True\n",
    "student_df.loc[(student_df['reading_score'] >= 70) & (student_df['math_score'] >= 70), 'pComb'] = True\n",
    "student_df.head(20)"
   ]
  },
  {
   "cell_type": "code",
   "execution_count": 10,
   "metadata": {},
   "outputs": [
    {
     "data": {
      "text/plain": [
       "Student ID        int64\n",
       "student_name     object\n",
       "gender           object\n",
       "grade            object\n",
       "school_name      object\n",
       "reading_score     int64\n",
       "math_score        int64\n",
       "pRead              bool\n",
       "pMath              bool\n",
       "pComb              bool\n",
       "dtype: object"
      ]
     },
     "execution_count": 10,
     "metadata": {},
     "output_type": "execute_result"
    }
   ],
   "source": [
    "student_df.dtypes"
   ]
  },
  {
   "cell_type": "code",
   "execution_count": 11,
   "metadata": {},
   "outputs": [],
   "source": [
    "pRdist = (student_df['pRead']).sum()\n",
    "pMdist = (student_df['pMath']).sum()\n",
    "pAdist = (student_df['pComb']).sum()"
   ]
  },
  {
   "cell_type": "code",
   "execution_count": 12,
   "metadata": {},
   "outputs": [
    {
     "name": "stdout",
     "output_type": "stream",
     "text": [
      "33610\n"
     ]
    }
   ],
   "source": [
    "print(pRdist)"
   ]
  },
  {
   "cell_type": "code",
   "execution_count": 13,
   "metadata": {},
   "outputs": [
    {
     "name": "stdout",
     "output_type": "stream",
     "text": [
      "29370\n"
     ]
    }
   ],
   "source": [
    "print(pMdist)"
   ]
  },
  {
   "cell_type": "code",
   "execution_count": 14,
   "metadata": {},
   "outputs": [
    {
     "name": "stdout",
     "output_type": "stream",
     "text": [
      "25528\n"
     ]
    }
   ],
   "source": [
    "print(pAdist)"
   ]
  },
  {
   "cell_type": "code",
   "execution_count": 15,
   "metadata": {},
   "outputs": [],
   "source": [
    "# Combine the data into a single dataset.  \n",
    "comb_df = pd.merge(school_df, student_df, on=[\"school_name\"])"
   ]
  },
  {
   "cell_type": "code",
   "execution_count": 16,
   "metadata": {},
   "outputs": [
    {
     "data": {
      "text/html": [
       "<div>\n",
       "<style scoped>\n",
       "    .dataframe tbody tr th:only-of-type {\n",
       "        vertical-align: middle;\n",
       "    }\n",
       "\n",
       "    .dataframe tbody tr th {\n",
       "        vertical-align: top;\n",
       "    }\n",
       "\n",
       "    .dataframe thead th {\n",
       "        text-align: right;\n",
       "    }\n",
       "</style>\n",
       "<table border=\"1\" class=\"dataframe\">\n",
       "  <thead>\n",
       "    <tr style=\"text-align: right;\">\n",
       "      <th></th>\n",
       "      <th>School ID</th>\n",
       "      <th>school_name</th>\n",
       "      <th>type</th>\n",
       "      <th>size</th>\n",
       "      <th>budget</th>\n",
       "      <th>stBud</th>\n",
       "      <th>Student ID</th>\n",
       "      <th>student_name</th>\n",
       "      <th>gender</th>\n",
       "      <th>grade</th>\n",
       "      <th>reading_score</th>\n",
       "      <th>math_score</th>\n",
       "      <th>pRead</th>\n",
       "      <th>pMath</th>\n",
       "      <th>pComb</th>\n",
       "    </tr>\n",
       "  </thead>\n",
       "  <tbody>\n",
       "    <tr>\n",
       "      <th>0</th>\n",
       "      <td>0</td>\n",
       "      <td>Huang High School</td>\n",
       "      <td>District</td>\n",
       "      <td>2917</td>\n",
       "      <td>1910635</td>\n",
       "      <td>655.0</td>\n",
       "      <td>0</td>\n",
       "      <td>Paul Bradley</td>\n",
       "      <td>M</td>\n",
       "      <td>9th</td>\n",
       "      <td>66</td>\n",
       "      <td>79</td>\n",
       "      <td>False</td>\n",
       "      <td>True</td>\n",
       "      <td>False</td>\n",
       "    </tr>\n",
       "  </tbody>\n",
       "</table>\n",
       "</div>"
      ],
      "text/plain": [
       "   School ID        school_name      type  size   budget  stBud  Student ID  \\\n",
       "0          0  Huang High School  District  2917  1910635  655.0           0   \n",
       "\n",
       "   student_name gender grade  reading_score  math_score  pRead  pMath  pComb  \n",
       "0  Paul Bradley      M   9th             66          79  False   True  False  "
      ]
     },
     "execution_count": 16,
     "metadata": {},
     "output_type": "execute_result"
    }
   ],
   "source": [
    "comb_df.head(1)"
   ]
  },
  {
   "cell_type": "code",
   "execution_count": 17,
   "metadata": {
    "scrolled": true
   },
   "outputs": [],
   "source": [
    "#  INFO comb_df.dtypes"
   ]
  },
  {
   "cell_type": "code",
   "execution_count": 18,
   "metadata": {},
   "outputs": [],
   "source": [
    "# Split DataFrames for each School\n",
    "hua_df = comb_df[comb_df['school_name'] == 'Huang High School']\n",
    "fig_df = comb_df[comb_df['school_name'] == 'Figueroa High School']\n",
    "she_df = comb_df[comb_df['school_name'] == 'Shelton High School']\n",
    "her_df = comb_df[comb_df['school_name'] == 'Hernandez High School']\n",
    "gri_df = comb_df[comb_df['school_name'] == 'Griffin High School']\n",
    "wil_df = comb_df[comb_df['school_name'] == 'Wilson High School']\n",
    "cab_df = comb_df[comb_df['school_name'] == 'Cabrera High School']\n",
    "bai_df = comb_df[comb_df['school_name'] == 'Bailey High School']\n",
    "hol_df = comb_df[comb_df['school_name'] == 'Holden High School']\n",
    "pen_df = comb_df[comb_df['school_name'] == 'Pena High School']\n",
    "wri_df = comb_df[comb_df['school_name'] == 'Wright High School']\n",
    "rod_df = comb_df[comb_df['school_name'] == 'Rodriquez High School']\n",
    "joh_df = comb_df[comb_df['school_name'] == 'Johnson High School']\n",
    "for_df = comb_df[comb_df['school_name'] == 'Ford High School']\n",
    "tho_df = comb_df[comb_df['school_name'] == 'Thomas High School']"
   ]
  },
  {
   "cell_type": "code",
   "execution_count": 19,
   "metadata": {},
   "outputs": [],
   "source": [
    "# Assign Variables to Total Student Counts by School\n",
    "huaSt = school_df.iloc[0, 3]\n",
    "figSt = school_df.iloc[1, 3]\n",
    "sheSt = school_df.iloc[2, 3]\n",
    "herSt = school_df.iloc[3, 3]\n",
    "griSt = school_df.iloc[4, 3]\n",
    "wilSt = school_df.iloc[5, 3]\n",
    "cabSt = school_df.iloc[6, 3]\n",
    "baiSt = school_df.iloc[7, 3]\n",
    "holSt = school_df.iloc[8, 3]\n",
    "penSt = school_df.iloc[9, 3]\n",
    "wriSt = school_df.iloc[10, 3]\n",
    "rodSt = school_df.iloc[11, 3]\n",
    "johSt = school_df.iloc[12, 3]\n",
    "forSt = school_df.iloc[13, 3]\n",
    "thoSt = school_df.iloc[14, 3]"
   ]
  },
  {
   "cell_type": "code",
   "execution_count": 20,
   "metadata": {},
   "outputs": [],
   "source": [
    "#Assign Variables to Student Budgets by School\n",
    "huaBi = school_df.iloc[0, 5]\n",
    "figBi = school_df.iloc[1, 5]\n",
    "sheBi = school_df.iloc[2, 5]\n",
    "herBi = school_df.iloc[3, 5]\n",
    "griBi = school_df.iloc[4, 5]\n",
    "wilBi = school_df.iloc[5, 5]\n",
    "cabBi = school_df.iloc[6, 5]\n",
    "baiBi = school_df.iloc[7, 5]\n",
    "holBi = school_df.iloc[8, 5]\n",
    "penBi = school_df.iloc[9, 5]\n",
    "wriBi = school_df.iloc[10, 5]\n",
    "rodBi = school_df.iloc[11, 5]\n",
    "johBi = school_df.iloc[12, 5]\n",
    "forBi = school_df.iloc[13, 5]\n",
    "thoBi = school_df.iloc[14, 5]"
   ]
  },
  {
   "cell_type": "code",
   "execution_count": 21,
   "metadata": {},
   "outputs": [
    {
     "name": "stdout",
     "output_type": "stream",
     "text": [
      "2917\n"
     ]
    }
   ],
   "source": [
    "print(huaSt)"
   ]
  },
  {
   "cell_type": "code",
   "execution_count": 22,
   "metadata": {},
   "outputs": [],
   "source": [
    "distSt = school_df[\"size\"].sum()"
   ]
  },
  {
   "cell_type": "code",
   "execution_count": 23,
   "metadata": {},
   "outputs": [],
   "source": [
    "# More Variables for District -- Averages\n",
    "aRdist = student_df['reading_score'].mean()\n",
    "aMdist = student_df['math_score'].mean()\n",
    "\n",
    "# More Variables for District -- Percentages\n",
    "ppMdist = (pRdist/distSt)\n",
    "ppMdist = (pMdist/distSt)\n",
    "ppMdist = (pAdist/distSt)"
   ]
  },
  {
   "cell_type": "code",
   "execution_count": 24,
   "metadata": {},
   "outputs": [],
   "source": [
    "# Count Passing Students in 3 Criteria by School\n",
    "pRhua = (hua_df['pRead']).sum()\n",
    "pMhua = (hua_df['pMath']).sum()\n",
    "pAhua = (hua_df['pComb']).sum()\n",
    "#----------------------------------------\n",
    "pRfig = (fig_df['pRead']).sum()\n",
    "pMfig = (fig_df['pMath']).sum()\n",
    "pAfig = (fig_df['pComb']).sum()\n",
    "#----------------------------------------\n",
    "pRshe = (she_df['pRead']).sum()\n",
    "pMshe = (she_df['pMath']).sum()\n",
    "pAshe = (she_df['pComb']).sum()\n",
    "#----------------------------------------\n",
    "pRher = (her_df['pRead']).sum()\n",
    "pMher = (her_df['pMath']).sum()\n",
    "pAher = (her_df['pComb']).sum()\n",
    "#----------------------------------------\n",
    "pRgri = (gri_df['pRead']).sum()\n",
    "pMgri = (gri_df['pMath']).sum()\n",
    "pAgri = (gri_df['pComb']).sum()\n",
    "#----------------------------------------\n",
    "pRwil = (wil_df['pRead']).sum()\n",
    "pMwil = (wil_df['pMath']).sum()\n",
    "pAwil = (wil_df['pComb']).sum()\n",
    "#----------------------------------------\n",
    "pRcab = (cab_df['pRead']).sum()\n",
    "pMcab = (cab_df['pMath']).sum()\n",
    "pAcab = (cab_df['pComb']).sum()\n",
    "#----------------------------------------\n",
    "pRbai = (bai_df['pRead']).sum()\n",
    "pMbai = (bai_df['pMath']).sum()\n",
    "pAbai = (bai_df['pComb']).sum()\n",
    "#----------------------------------------\n",
    "pRhol = (hol_df['pRead']).sum()\n",
    "pMhol = (hol_df['pMath']).sum()\n",
    "pAhol = (hol_df['pComb']).sum()\n",
    "#----------------------------------------\n",
    "pRpen = (pen_df['pRead']).sum()\n",
    "pMpen = (pen_df['pMath']).sum()\n",
    "pApen = (pen_df['pComb']).sum()\n",
    "#----------------------------------------\n",
    "pRwri = (wri_df['pRead']).sum()\n",
    "pMwri = (wri_df['pMath']).sum()\n",
    "pAwri = (wri_df['pComb']).sum()\n",
    "#----------------------------------------\n",
    "pRrod = (rod_df['pRead']).sum()\n",
    "pMrod = (rod_df['pMath']).sum()\n",
    "pArod = (rod_df['pComb']).sum()\n",
    "#----------------------------------------\n",
    "pRjoh = (joh_df['pRead']).sum()\n",
    "pMjoh = (joh_df['pMath']).sum()\n",
    "pAjoh = (joh_df['pComb']).sum()\n",
    "#----------------------------------------\n",
    "pRfor = (for_df['pRead']).sum()\n",
    "pMfor = (for_df['pMath']).sum()\n",
    "pAfor = (for_df['pComb']).sum()\n",
    "#----------------------------------------\n",
    "pRtho = (tho_df['pRead']).sum()\n",
    "pMtho = (tho_df['pMath']).sum()\n",
    "pAtho = (tho_df['pComb']).sum()\n"
   ]
  },
  {
   "cell_type": "code",
   "execution_count": 25,
   "metadata": {},
   "outputs": [],
   "source": [
    "# Assign Varables to Reading Averages by School\n",
    "aRhua = hua_df['reading_score'].mean()\n",
    "aRfig = fig_df['reading_score'].mean()\n",
    "aRshe = she_df['reading_score'].mean()\n",
    "aRher = her_df['reading_score'].mean()\n",
    "aRgri = gri_df['reading_score'].mean()\n",
    "aRwil = wil_df['reading_score'].mean()\n",
    "aRcab = cab_df['reading_score'].mean()\n",
    "aRbai = bai_df['reading_score'].mean()\n",
    "aRhol = hol_df['reading_score'].mean()\n",
    "aRpen = pen_df['reading_score'].mean()\n",
    "aRwri = wri_df['reading_score'].mean()\n",
    "aRrod = rod_df['reading_score'].mean()\n",
    "aRjoh = joh_df['reading_score'].mean()\n",
    "aRfor = for_df['reading_score'].mean()\n",
    "aRtho = tho_df['reading_score'].mean()"
   ]
  },
  {
   "cell_type": "code",
   "execution_count": 41,
   "metadata": {},
   "outputs": [
    {
     "ename": "AttributeError",
     "evalue": "'float' object has no attribute 'dtypes'",
     "output_type": "error",
     "traceback": [
      "\u001b[1;31m---------------------------------------------------------------------------\u001b[0m",
      "\u001b[1;31mAttributeError\u001b[0m                            Traceback (most recent call last)",
      "Input \u001b[1;32mIn [41]\u001b[0m, in \u001b[0;36m<cell line: 1>\u001b[1;34m()\u001b[0m\n\u001b[1;32m----> 1\u001b[0m \u001b[43maRhol\u001b[49m\u001b[38;5;241;43m.\u001b[39;49m\u001b[43mdtypes\u001b[49m\n",
      "\u001b[1;31mAttributeError\u001b[0m: 'float' object has no attribute 'dtypes'"
     ]
    }
   ],
   "source": [
    "aRhol.dtypes"
   ]
  },
  {
   "cell_type": "code",
   "execution_count": 26,
   "metadata": {},
   "outputs": [],
   "source": [
    "# Assign Varables to Math Averages by School math\n",
    "aMhua = hua_df['math_score'].mean()\n",
    "aMfig = fig_df['math_score'].mean()\n",
    "aMshe = she_df['math_score'].mean()\n",
    "aMher = her_df['math_score'].mean()\n",
    "aMgri = gri_df['math_score'].mean()\n",
    "aMwil = wil_df['math_score'].mean()\n",
    "aMcab = cab_df['math_score'].mean()\n",
    "aMbai = bai_df['math_score'].mean()\n",
    "aMhol = hol_df['math_score'].mean()\n",
    "aMpen = pen_df['math_score'].mean()\n",
    "aMwri = wri_df['math_score'].mean()\n",
    "aMrod = rod_df['math_score'].mean()\n",
    "aMjoh = joh_df['math_score'].mean()\n",
    "aMfor = for_df['math_score'].mean()\n",
    "aMtho = tho_df['math_score'].mean()"
   ]
  },
  {
   "cell_type": "code",
   "execution_count": 27,
   "metadata": {},
   "outputs": [],
   "source": [
    "# Assign Varables to Reading Percentages by School\n",
    "ppRhua = (pRhua/huaSt)*100\n",
    "ppRfig = (pRfig/figSt)*100\n",
    "ppRshe = (pRshe/sheSt)*100\n",
    "ppRher = (pRher/herSt)*100\n",
    "ppRgri = (pRgri/griSt)*100\n",
    "ppRwil = (pRwil/wilSt)*100\n",
    "ppRcab = (pRcab/cabSt)*100\n",
    "ppRbai = (pRbai/baiSt)*100\n",
    "ppRhol = (pRhol/holSt)*100\n",
    "ppRpen = (pRpen/penSt)*100\n",
    "ppRwri = (pRwri/wriSt)*100\n",
    "ppRrod = (pRrod/rodSt)*100\n",
    "ppRjoh = (pRjoh/johSt)*100\n",
    "ppRfor = (pRfor/forSt)*100\n",
    "ppRtho = (pRtho/thoSt)*100"
   ]
  },
  {
   "cell_type": "code",
   "execution_count": 28,
   "metadata": {},
   "outputs": [],
   "source": [
    "# Assign Varables to Math Percentages by School\n",
    "ppMhua = (pMhua/huaSt)*100\n",
    "ppMfig = (pMfig/figSt)*100\n",
    "ppMshe = (pMshe/sheSt)*100\n",
    "ppMher = (pMher/herSt)*100\n",
    "ppMgri = (pMgri/griSt)*100\n",
    "ppMwil = (pMwil/wilSt)*100\n",
    "ppMcab = (pMcab/cabSt)*100\n",
    "ppMbai = (pMbai/baiSt)*100\n",
    "ppMhol = (pMhol/holSt)*100\n",
    "ppMpen = (pMpen/penSt)*100\n",
    "ppMwri = (pMwri/wriSt)*100\n",
    "ppMrod = (pMrod/rodSt)*100\n",
    "ppMjoh = (pMjoh/johSt)*100\n",
    "ppMfor = (pMfor/forSt)*100\n",
    "ppMtho = (pMtho/thoSt)*100"
   ]
  },
  {
   "cell_type": "code",
   "execution_count": 29,
   "metadata": {},
   "outputs": [],
   "source": [
    "# Assign Varables to Overall Percentages by School\n",
    "ppAhua = (pAhua/huaSt)*100\n",
    "ppAfig = (pAfig/figSt)*100\n",
    "ppAshe = (pAshe/sheSt)*100\n",
    "ppAher = (pAher/herSt)*100\n",
    "ppAgri = (pAgri/griSt)*100\n",
    "ppAwil = (pAwil/wilSt)*100\n",
    "ppAcab = (pAcab/cabSt)*100\n",
    "ppAbai = (pAbai/baiSt)*100\n",
    "ppAhol = (pAhol/holSt)*100\n",
    "ppApen = (pApen/penSt)*100\n",
    "ppAwri = (pAwri/wriSt)*100\n",
    "ppArod = (pArod/rodSt)*100\n",
    "ppAjoh = (pAjoh/johSt)*100\n",
    "ppAfor = (pAfor/forSt)*100\n",
    "ppAtho = (pAtho/thoSt)*100"
   ]
  },
  {
   "cell_type": "code",
   "execution_count": 30,
   "metadata": {},
   "outputs": [
    {
     "data": {
      "text/plain": [
       "array(['Huang High School', 'Figueroa High School', 'Shelton High School',\n",
       "       'Hernandez High School', 'Griffin High School',\n",
       "       'Wilson High School', 'Cabrera High School', 'Bailey High School',\n",
       "       'Holden High School', 'Pena High School', 'Wright High School',\n",
       "       'Rodriguez High School', 'Johnson High School', 'Ford High School',\n",
       "       'Thomas High School'], dtype=object)"
      ]
     },
     "execution_count": 30,
     "metadata": {},
     "output_type": "execute_result"
    }
   ],
   "source": [
    "student_df[\"school_name\"].unique()"
   ]
  },
  {
   "cell_type": "code",
   "execution_count": 31,
   "metadata": {},
   "outputs": [],
   "source": [
    "# Calculate the total number of schools\n",
    "schoolCt = school_df[\"school_name\"].nunique()"
   ]
  },
  {
   "cell_type": "code",
   "execution_count": 32,
   "metadata": {},
   "outputs": [],
   "source": [
    "# Calculate the total number of students\n",
    "distSt = student_df[\"student_name\"].count()"
   ]
  },
  {
   "cell_type": "code",
   "execution_count": 33,
   "metadata": {},
   "outputs": [],
   "source": [
    "# Caluculate the total budget\n",
    "distBudg = school_df[\"budget\"].sum()"
   ]
  },
  {
   "cell_type": "code",
   "execution_count": 34,
   "metadata": {},
   "outputs": [],
   "source": [
    "# Calculate the average reading score\n",
    "rAvg = student_df[\"reading_score\"].mean()"
   ]
  },
  {
   "cell_type": "code",
   "execution_count": 35,
   "metadata": {},
   "outputs": [],
   "source": [
    "# Calculate the average math score\n",
    "mAvg = student_df[\"math_score\"].mean()"
   ]
  },
  {
   "cell_type": "code",
   "execution_count": 36,
   "metadata": {},
   "outputs": [],
   "source": [
    "# Calculate the percentage of passing students in 3 categories\n",
    "ppRdist = (pRdist / distSt) * 100\n",
    "ppMdist = (pMdist / distSt) * 100\n",
    "ppAdist = (pAdist / distSt) * 100"
   ]
  },
  {
   "cell_type": "code",
   "execution_count": 37,
   "metadata": {},
   "outputs": [],
   "source": [
    "# Optional: give the displayed data cleaner formatting"
   ]
  },
  {
   "cell_type": "markdown",
   "metadata": {},
   "source": [
    "## District Summary"
   ]
  },
  {
   "cell_type": "code",
   "execution_count": 38,
   "metadata": {},
   "outputs": [
    {
     "data": {
      "text/plain": [
       "{'Total Schools': 15,\n",
       " 'Total Students': 39170,\n",
       " 'Total Budget': 24649428,\n",
       " 'Average Math Score': 78.98537145774827,\n",
       " 'Average Reading score': 81.87784018381414,\n",
       " '% Passing Reading': 85.80546336482001,\n",
       " '% Passing Math': 74.9808526933878,\n",
       " '% Overall Passing': 65.17232575950983}"
      ]
     },
     "execution_count": 38,
     "metadata": {},
     "output_type": "execute_result"
    }
   ],
   "source": [
    "# Create a dataframe to hold the above results\n",
    "dist_summary = {'Total Schools': schoolCt, 'Total Students': distSt, 'Total Budget': distBudg, \\\n",
    "                          'Average Math Score': mAvg, 'Average Reading score': rAvg, '% Passing Reading': ppRdist, \\\n",
    "                          '% Passing Math': ppMdist, '% Overall Passing': ppAdist}\n",
    "(dist_summary)"
   ]
  },
  {
   "cell_type": "code",
   "execution_count": 39,
   "metadata": {},
   "outputs": [],
   "source": [
    "# Create a Summary DataFrame for school results"
   ]
  },
  {
   "cell_type": "markdown",
   "metadata": {},
   "source": [
    "## School Summary"
   ]
  },
  {
   "cell_type": "markdown",
   "metadata": {},
   "source": [
    "# <span style=\"color: blue;\">CURRENTLY</span> <span style=\"color: green;\">WORKING</span> <span style=\"color: red;\">HERE</span>"
   ]
  },
  {
   "cell_type": "code",
   "execution_count": 40,
   "metadata": {},
   "outputs": [
    {
     "ename": "TypeError",
     "evalue": "'float' object is not callable",
     "output_type": "error",
     "traceback": [
      "\u001b[1;31m---------------------------------------------------------------------------\u001b[0m",
      "\u001b[1;31mTypeError\u001b[0m                                 Traceback (most recent call last)",
      "Input \u001b[1;32mIn [40]\u001b[0m, in \u001b[0;36m<cell line: 1>\u001b[1;34m()\u001b[0m\n\u001b[0;32m      1\u001b[0m sch_sum_df \u001b[38;5;241m=\u001b[39m pd\u001b[38;5;241m.\u001b[39mDataFrame({\n\u001b[0;32m      2\u001b[0m         \u001b[38;5;124m\"\u001b[39m\u001b[38;5;124mSchool Name\u001b[39m\u001b[38;5;124m\"\u001b[39m: [\u001b[38;5;124m\"\u001b[39m\u001b[38;5;124mHuang High School\u001b[39m\u001b[38;5;124m\"\u001b[39m, \u001b[38;5;124m\"\u001b[39m\u001b[38;5;124mFigueroa High School\u001b[39m\u001b[38;5;124m\"\u001b[39m, \u001b[38;5;124m\"\u001b[39m\u001b[38;5;124mShelton High School\u001b[39m\u001b[38;5;124m\"\u001b[39m, \u001b[38;5;124m\"\u001b[39m\u001b[38;5;124mHernandez High School\u001b[39m\u001b[38;5;124m\"\u001b[39m, \\\n\u001b[0;32m      3\u001b[0m         \u001b[38;5;124m\"\u001b[39m\u001b[38;5;124mGriffin High School\u001b[39m\u001b[38;5;124m\"\u001b[39m,\u001b[38;5;124m\"\u001b[39m\u001b[38;5;124mWilson High School\u001b[39m\u001b[38;5;124m\"\u001b[39m, \u001b[38;5;124m\"\u001b[39m\u001b[38;5;124mCabrera High School\u001b[39m\u001b[38;5;124m\"\u001b[39m, \u001b[38;5;124m\"\u001b[39m\u001b[38;5;124mBailey High School\u001b[39m\u001b[38;5;124m\"\u001b[39m, \u001b[38;5;124m\"\u001b[39m\u001b[38;5;124mHolden High School\u001b[39m\u001b[38;5;124m\"\u001b[39m, \\\n\u001b[0;32m      4\u001b[0m         \u001b[38;5;124m\"\u001b[39m\u001b[38;5;124mPena High School\u001b[39m\u001b[38;5;124m\"\u001b[39m, \u001b[38;5;124m\"\u001b[39m\u001b[38;5;124mWright High School\u001b[39m\u001b[38;5;124m\"\u001b[39m, \u001b[38;5;124m\"\u001b[39m\u001b[38;5;124mRodriguez High School\u001b[39m\u001b[38;5;124m\"\u001b[39m, \u001b[38;5;124m\"\u001b[39m\u001b[38;5;124mJohnson High School\u001b[39m\u001b[38;5;124m\"\u001b[39m, \u001b[38;5;124m\"\u001b[39m\u001b[38;5;124mFord High School\u001b[39m\u001b[38;5;124m\"\u001b[39m, \\\n\u001b[0;32m      5\u001b[0m         \u001b[38;5;124m\"\u001b[39m\u001b[38;5;124mThomas High School\u001b[39m\u001b[38;5;124m\"\u001b[39m], \u001b[38;5;124m\"\u001b[39m\u001b[38;5;124mSchool Type\u001b[39m\u001b[38;5;124m\"\u001b[39m: [\u001b[38;5;124m\"\u001b[39m\u001b[38;5;124mDistrict\u001b[39m\u001b[38;5;124m\"\u001b[39m, \u001b[38;5;124m\"\u001b[39m\u001b[38;5;124mDistrict\u001b[39m\u001b[38;5;124m\"\u001b[39m, \u001b[38;5;124m\"\u001b[39m\u001b[38;5;124mCharter\u001b[39m\u001b[38;5;124m\"\u001b[39m, \u001b[38;5;124m\"\u001b[39m\u001b[38;5;124mDistrict\u001b[39m\u001b[38;5;124m\"\u001b[39m, \u001b[38;5;124m\"\u001b[39m\u001b[38;5;124mCharter\u001b[39m\u001b[38;5;124m\"\u001b[39m, \u001b[38;5;124m\"\u001b[39m\u001b[38;5;124mCharter\u001b[39m\u001b[38;5;124m\"\u001b[39m, \\\n\u001b[0;32m      6\u001b[0m         \u001b[38;5;124m\"\u001b[39m\u001b[38;5;124mCharter\u001b[39m\u001b[38;5;124m\"\u001b[39m, \u001b[38;5;124m\"\u001b[39m\u001b[38;5;124mDistrict\u001b[39m\u001b[38;5;124m\"\u001b[39m, \u001b[38;5;124m\"\u001b[39m\u001b[38;5;124mCharter\u001b[39m\u001b[38;5;124m\"\u001b[39m, \u001b[38;5;124m\"\u001b[39m\u001b[38;5;124mCharter\u001b[39m\u001b[38;5;124m\"\u001b[39m, \u001b[38;5;124m\"\u001b[39m\u001b[38;5;124mCharter\u001b[39m\u001b[38;5;124m\"\u001b[39m, \u001b[38;5;124m\"\u001b[39m\u001b[38;5;124mDistrict\u001b[39m\u001b[38;5;124m\"\u001b[39m, \u001b[38;5;124m\"\u001b[39m\u001b[38;5;124mDistrict\u001b[39m\u001b[38;5;124m\"\u001b[39m, \u001b[38;5;124m\"\u001b[39m\u001b[38;5;124mDistrict\u001b[39m\u001b[38;5;124m\"\u001b[39m, \u001b[38;5;124m\"\u001b[39m\u001b[38;5;124mCharter\u001b[39m\u001b[38;5;124m\"\u001b[39m], \\\n\u001b[0;32m      7\u001b[0m         \u001b[38;5;124m\"\u001b[39m\u001b[38;5;124mTotal Students\u001b[39m\u001b[38;5;124m\"\u001b[39m: [\u001b[38;5;124m\"\u001b[39m\u001b[38;5;124m2917\u001b[39m\u001b[38;5;124m\"\u001b[39m, \u001b[38;5;124m\"\u001b[39m\u001b[38;5;124m2949\u001b[39m\u001b[38;5;124m\"\u001b[39m, \u001b[38;5;124m\"\u001b[39m\u001b[38;5;124m1761\u001b[39m\u001b[38;5;124m\"\u001b[39m, \u001b[38;5;124m\"\u001b[39m\u001b[38;5;124m4635\u001b[39m\u001b[38;5;124m\"\u001b[39m, \u001b[38;5;124m\"\u001b[39m\u001b[38;5;124m1468\u001b[39m\u001b[38;5;124m\"\u001b[39m, \u001b[38;5;124m\"\u001b[39m\u001b[38;5;124m2283\u001b[39m\u001b[38;5;124m\"\u001b[39m, \u001b[38;5;124m\"\u001b[39m\u001b[38;5;124m1858\u001b[39m\u001b[38;5;124m\"\u001b[39m, \u001b[38;5;124m\"\u001b[39m\u001b[38;5;124m4976\u001b[39m\u001b[38;5;124m\"\u001b[39m, \u001b[38;5;124m\"\u001b[39m\u001b[38;5;124m427\u001b[39m\u001b[38;5;124m\"\u001b[39m, \u001b[38;5;124m\"\u001b[39m\u001b[38;5;124m962\u001b[39m\u001b[38;5;124m\"\u001b[39m, \u001b[38;5;124m\"\u001b[39m\u001b[38;5;124m1800\u001b[39m\u001b[38;5;124m\"\u001b[39m, \u001b[38;5;124m\"\u001b[39m\u001b[38;5;124m3999\u001b[39m\u001b[38;5;124m\"\u001b[39m, \\\n\u001b[0;32m      8\u001b[0m         \u001b[38;5;124m\"\u001b[39m\u001b[38;5;124m4761\u001b[39m\u001b[38;5;124m\"\u001b[39m, \u001b[38;5;124m\"\u001b[39m\u001b[38;5;124m2739\u001b[39m\u001b[38;5;124m\"\u001b[39m, \u001b[38;5;124m\"\u001b[39m\u001b[38;5;124m1635\u001b[39m\u001b[38;5;124m\"\u001b[39m], \u001b[38;5;124m\"\u001b[39m\u001b[38;5;124mTotal School Budget\u001b[39m\u001b[38;5;124m\"\u001b[39m: [\u001b[38;5;124m\"\u001b[39m\u001b[38;5;124m1910635\u001b[39m\u001b[38;5;124m\"\u001b[39m, \u001b[38;5;124m\"\u001b[39m\u001b[38;5;124m1884411\u001b[39m\u001b[38;5;124m\"\u001b[39m, \u001b[38;5;124m\"\u001b[39m\u001b[38;5;124m1056600\u001b[39m\u001b[38;5;124m\"\u001b[39m, \u001b[38;5;124m\"\u001b[39m\u001b[38;5;124m3022020\u001b[39m\u001b[38;5;124m\"\u001b[39m, \u001b[38;5;124m\"\u001b[39m\u001b[38;5;124m917500\u001b[39m\u001b[38;5;124m\"\u001b[39m, \u001b[38;5;124m\"\u001b[39m\u001b[38;5;124m1319574\u001b[39m\u001b[38;5;124m\"\u001b[39m, \\\n\u001b[0;32m      9\u001b[0m         \u001b[38;5;124m\"\u001b[39m\u001b[38;5;124m1081356\u001b[39m\u001b[38;5;124m\"\u001b[39m, \u001b[38;5;124m\"\u001b[39m\u001b[38;5;124m3124928\u001b[39m\u001b[38;5;124m\"\u001b[39m, \u001b[38;5;124m\"\u001b[39m\u001b[38;5;124m248087\u001b[39m\u001b[38;5;124m\"\u001b[39m, \u001b[38;5;124m\"\u001b[39m\u001b[38;5;124m585858\u001b[39m\u001b[38;5;124m\"\u001b[39m, \u001b[38;5;124m\"\u001b[39m\u001b[38;5;124m1049400\u001b[39m\u001b[38;5;124m\"\u001b[39m, \u001b[38;5;124m\"\u001b[39m\u001b[38;5;124m2547363\u001b[39m\u001b[38;5;124m\"\u001b[39m, \u001b[38;5;124m\"\u001b[39m\u001b[38;5;124m3094650\u001b[39m\u001b[38;5;124m\"\u001b[39m, \u001b[38;5;124m\"\u001b[39m\u001b[38;5;124m1763916\u001b[39m\u001b[38;5;124m\"\u001b[39m, \u001b[38;5;124m\"\u001b[39m\u001b[38;5;124m1043130\u001b[39m\u001b[38;5;124m\"\u001b[39m], \u001b[38;5;124m\"\u001b[39m\u001b[38;5;124mPer Student Budget\u001b[39m\u001b[38;5;124m\"\u001b[39m: \\\n\u001b[0;32m     10\u001b[0m         [(huaBi), (figBi), (sheBi), (herBi), (griBi), (wilBi), (cabBi), (baiBi), (holBi), (penBi), (wriBi), (rodBi), (johBi), \\\n\u001b[1;32m---> 11\u001b[0m         (forBi), (thoBi)], \u001b[38;5;124m\"\u001b[39m\u001b[38;5;124mAverage Reading Score\u001b[39m\u001b[38;5;124m\"\u001b[39m: [(aRhua), (aRfig), (aRshe), (aRher), (aRgri), (aRwil), (aRcab), \u001b[43m(\u001b[49m\u001b[43maRbai\u001b[49m\u001b[43m)\u001b[49m\u001b[43m \u001b[49m\u001b[43m\\\u001b[49m\n\u001b[0;32m     12\u001b[0m \u001b[43m        \u001b[49m\u001b[43m(\u001b[49m\u001b[43maRhol\u001b[49m\u001b[43m)\u001b[49m, (aRpen), (aRwri), (aRrod), (aRjoh), (aRfor), (aRtho)], \u001b[38;5;124m\"\u001b[39m\u001b[38;5;124mAverage Math Score\u001b[39m\u001b[38;5;124m\"\u001b[39m: [(aMhua), (aMfig), (aMshe) \\\n\u001b[0;32m     13\u001b[0m         (aMher), (aMgri), (aMwil), (aMcab), (aMbai), (aMhol), (aMpen), (aMwri), (aMrod), (aMjoh), (aMfor), (aMtho)], \\\n\u001b[0;32m     14\u001b[0m         \u001b[38;5;124m\"\u001b[39m\u001b[38;5;124m%\u001b[39m\u001b[38;5;124m Passing Math\u001b[39m\u001b[38;5;124m\"\u001b[39m: [(ppMhua), (ppMfig), (ppMshe), (ppMher), (ppMgri), (ppMwil), (ppMcab), (ppMbai), (ppMhol), (ppMpen), \\\n\u001b[0;32m     15\u001b[0m         (ppMwri), (ppMrod), (ppMjoh), (ppMfor), (ppMtho)]})\n",
      "\u001b[1;31mTypeError\u001b[0m: 'float' object is not callable"
     ]
    }
   ],
   "source": [
    "sch_sum_df = pd.DataFrame({\n",
    "        \"School Name\": [\"Huang High School\", \"Figueroa High School\", \"Shelton High School\", \"Hernandez High School\", \\\n",
    "        \"Griffin High School\",\"Wilson High School\", \"Cabrera High School\", \"Bailey High School\", \"Holden High School\", \\\n",
    "        \"Pena High School\", \"Wright High School\", \"Rodriguez High School\", \"Johnson High School\", \"Ford High School\", \\\n",
    "        \"Thomas High School\"], \"School Type\": [\"District\", \"District\", \"Charter\", \"District\", \"Charter\", \"Charter\", \\\n",
    "        \"Charter\", \"District\", \"Charter\", \"Charter\", \"Charter\", \"District\", \"District\", \"District\", \"Charter\"], \\\n",
    "        \"Total Students\": [\"2917\", \"2949\", \"1761\", \"4635\", \"1468\", \"2283\", \"1858\", \"4976\", \"427\", \"962\", \"1800\", \"3999\", \\\n",
    "        \"4761\", \"2739\", \"1635\"], \"Total School Budget\": [\"1910635\", \"1884411\", \"1056600\", \"3022020\", \"917500\", \"1319574\", \\\n",
    "        \"1081356\", \"3124928\", \"248087\", \"585858\", \"1049400\", \"2547363\", \"3094650\", \"1763916\", \"1043130\"], \"Per Student Budget\": \\\n",
    "        [(huaBi), (figBi), (sheBi), (herBi), (griBi), (wilBi), (cabBi), (baiBi), (holBi), (penBi), (wriBi), (rodBi), (johBi), \\\n",
    "        (forBi), (thoBi)], \"Average Reading Score\": [(aRhua), (aRfig), (aRshe), (aRher), (aRgri), (aRwil), (aRcab), (aRbai) \\\n",
    "        (aRhol), (aRpen), (aRwri), (aRrod), (aRjoh), (aRfor), (aRtho)], \"Average Math Score\": [(aMhua), (aMfig), (aMshe) \\\n",
    "        (aMher), (aMgri), (aMwil), (aMcab), (aMbai), (aMhol), (aMpen), (aMwri), (aMrod), (aMjoh), (aMfor), (aMtho)], \\\n",
    "        \"% Passing Math\": [(ppMhua), (ppMfig), (ppMshe), (ppMher), (ppMgri), (ppMwil), (ppMcab), (ppMbai), (ppMhol), (ppMpen), \\\n",
    "        (ppMwri), (ppMrod), (ppMjoh), (ppMfor), (ppMtho)]})#, \\\n",
    "        #\"% Passing Reading\": [ppRhua, ppMRig, ppRshe, ppRher, ppRgri, ppRwil, ppRcab, ppRbai, ppRhol, ppRpen, ppRwri, ppRrod, \\\n",
    "        #ppRjoh, ppRfor, ppRtho], \"% Overall Passing\": [ppAhua, ppAfig, ppAshe, ppAher, ppAgri, ppAwil, ppAcab, ppAbai, ppAhol, \\\n",
    "        #ppApen, ppAwri, ppArod, ppAjoh, ppAfor, ppAtho]}) "
   ]
  },
  {
   "cell_type": "code",
   "execution_count": null,
   "metadata": {},
   "outputs": [],
   "source": [
    "sch_sum_df"
   ]
  },
  {
   "cell_type": "markdown",
   "metadata": {},
   "source": [
    "## Top Performing Schools (By % Overall Passing)"
   ]
  },
  {
   "cell_type": "markdown",
   "metadata": {},
   "source": [
    "* Sort and display the top five performing schools by % overall passing."
   ]
  },
  {
   "cell_type": "code",
   "execution_count": null,
   "metadata": {
    "scrolled": true
   },
   "outputs": [],
   "source": [
    "#create a dataframe groped by Overall Passing per School\n",
    "oPass_df = gr_Sch_df.groupby([\"sch_summary.ascend=True "
   ]
  },
  {
   "cell_type": "markdown",
   "metadata": {},
   "source": [
    "## Bottom Performing Schools (By % Overall Passing)"
   ]
  },
  {
   "cell_type": "markdown",
   "metadata": {},
   "source": [
    "* Sort and display the five worst-performing schools by % overall passing."
   ]
  },
  {
   "cell_type": "code",
   "execution_count": null,
   "metadata": {},
   "outputs": [],
   "source": [
    "sch_summary.ascend=False"
   ]
  },
  {
   "cell_type": "markdown",
   "metadata": {
    "collapsed": true
   },
   "source": [
    "## Math Scores by Grade"
   ]
  },
  {
   "cell_type": "markdown",
   "metadata": {},
   "source": [
    "* Create a table that lists the average Reading Score for students of each grade level (9th, 10th, 11th, 12th) at each school.\n",
    "\n",
    "  * Create a pandas series for each grade. Hint: use a conditional statement.\n",
    "  \n",
    "  * Group each series by school\n",
    "  \n",
    "  * Combine the series into a dataframe\n",
    "  \n",
    "  * Optional: give the displayed data cleaner formatting"
   ]
  },
  {
   "cell_type": "code",
   "execution_count": null,
   "metadata": {},
   "outputs": [],
   "source": [
    "studByYr_summary = gr_Sch_df({' ': school_name, \n",
    "              '9th': mAvg\n",
    "              '10th': mAvg\n",
    "              '11th': mAvg\n",
    "              '12th': mAvg"
   ]
  },
  {
   "cell_type": "markdown",
   "metadata": {},
   "source": [
    "## Reading Score by Grade "
   ]
  },
  {
   "cell_type": "markdown",
   "metadata": {},
   "source": [
    "* Perform the same operations as above for reading scores"
   ]
  },
  {
   "cell_type": "code",
   "execution_count": null,
   "metadata": {},
   "outputs": [],
   "source": [
    "studByYr_summary = gr_Sch_df({' ': school_name, \n",
    "              '9th': rAvg\n",
    "              '10th': rAvg\n",
    "              '11th': rAvg\n",
    "              '12th': rAvg"
   ]
  },
  {
   "cell_type": "markdown",
   "metadata": {},
   "source": [
    "## Scores by School Spending"
   ]
  },
  {
   "cell_type": "markdown",
   "metadata": {},
   "source": [
    "* Create a table that breaks down school performances based on average Spending Ranges (Per Student). Use 4 reasonable bins to group school spending. Include in the table each of the following:\n",
    "  * Average Math Score\n",
    "  * Average Reading Score\n",
    "  * % Passing Math\n",
    "  * % Passing Reading\n",
    "  * Overall Passing Rate (Average of the above two)"
   ]
  },
  {
   "cell_type": "code",
   "execution_count": null,
   "metadata": {},
   "outputs": [],
   "source": []
  },
  {
   "cell_type": "markdown",
   "metadata": {},
   "source": [
    "## Scores by School Size"
   ]
  },
  {
   "cell_type": "markdown",
   "metadata": {},
   "source": [
    "* Perform the same operations as above, based on school size."
   ]
  },
  {
   "cell_type": "code",
   "execution_count": null,
   "metadata": {
    "scrolled": true
   },
   "outputs": [],
   "source": []
  },
  {
   "cell_type": "markdown",
   "metadata": {},
   "source": [
    "## Scores by School Type"
   ]
  },
  {
   "cell_type": "markdown",
   "metadata": {},
   "source": [
    "* Perform the same operations as above, based on school type"
   ]
  },
  {
   "cell_type": "code",
   "execution_count": null,
   "metadata": {},
   "outputs": [],
   "source": []
  },
  {
   "cell_type": "code",
   "execution_count": null,
   "metadata": {},
   "outputs": [],
   "source": []
  }
 ],
 "metadata": {
  "anaconda-cloud": {},
  "kernel_info": {
   "name": "python3"
  },
  "kernelspec": {
   "display_name": "PythonData38",
   "language": "python",
   "name": "pythondata38"
  },
  "language_info": {
   "codemirror_mode": {
    "name": "ipython",
    "version": 3
   },
   "file_extension": ".py",
   "mimetype": "text/x-python",
   "name": "python",
   "nbconvert_exporter": "python",
   "pygments_lexer": "ipython3",
   "version": "3.9.12"
  },
  "latex_envs": {
   "LaTeX_envs_menu_present": true,
   "autoclose": false,
   "autocomplete": true,
   "bibliofile": "biblio.bib",
   "cite_by": "apalike",
   "current_citInitial": 1,
   "eqLabelWithNumbers": true,
   "eqNumInitial": 1,
   "hotkeys": {
    "equation": "Ctrl-E",
    "itemize": "Ctrl-I"
   },
   "labels_anchors": false,
   "latex_user_defs": false,
   "report_style_numbering": false,
   "user_envs_cfg": false
  },
  "nteract": {
   "version": "0.8.4"
  }
 },
 "nbformat": 4,
 "nbformat_minor": 1
}
