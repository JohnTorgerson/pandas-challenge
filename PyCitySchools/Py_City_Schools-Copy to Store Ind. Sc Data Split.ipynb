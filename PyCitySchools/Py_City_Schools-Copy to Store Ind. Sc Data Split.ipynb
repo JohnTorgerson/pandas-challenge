{
 "cells": [
  {
   "cell_type": "code",
   "execution_count": 97,
   "metadata": {},
   "outputs": [],
   "source": [
    "# Dependencies and Setup\n",
    "import pandas as pd"
   ]
  },
  {
   "cell_type": "code",
   "execution_count": 98,
   "metadata": {},
   "outputs": [],
   "source": [
    "# File to Load (Remember to Change These)\n",
    "\n",
    "school_df = \"Resources/schools_complete.csv\"\n",
    "student_df = \"Resources/students_complete.csv\""
   ]
  },
  {
   "cell_type": "code",
   "execution_count": 99,
   "metadata": {},
   "outputs": [],
   "source": [
    "# Read School and Student Data File and store into Pandas DataFrames\n",
    "\n",
    "school_df = pd.read_csv(school_df)\n",
    "student_df = pd.read_csv(student_df)"
   ]
  },
  {
   "cell_type": "code",
   "execution_count": 100,
   "metadata": {},
   "outputs": [
    {
     "data": {
      "text/html": [
       "<div>\n",
       "<style scoped>\n",
       "    .dataframe tbody tr th:only-of-type {\n",
       "        vertical-align: middle;\n",
       "    }\n",
       "\n",
       "    .dataframe tbody tr th {\n",
       "        vertical-align: top;\n",
       "    }\n",
       "\n",
       "    .dataframe thead th {\n",
       "        text-align: right;\n",
       "    }\n",
       "</style>\n",
       "<table border=\"1\" class=\"dataframe\">\n",
       "  <thead>\n",
       "    <tr style=\"text-align: right;\">\n",
       "      <th></th>\n",
       "      <th>School ID</th>\n",
       "      <th>school_name</th>\n",
       "      <th>type</th>\n",
       "      <th>size</th>\n",
       "      <th>budget</th>\n",
       "    </tr>\n",
       "  </thead>\n",
       "  <tbody>\n",
       "    <tr>\n",
       "      <th>0</th>\n",
       "      <td>0</td>\n",
       "      <td>Huang High School</td>\n",
       "      <td>District</td>\n",
       "      <td>2917</td>\n",
       "      <td>1910635</td>\n",
       "    </tr>\n",
       "  </tbody>\n",
       "</table>\n",
       "</div>"
      ],
      "text/plain": [
       "   School ID        school_name      type  size   budget\n",
       "0          0  Huang High School  District  2917  1910635"
      ]
     },
     "execution_count": 100,
     "metadata": {},
     "output_type": "execute_result"
    }
   ],
   "source": [
    "school_df.head(1)"
   ]
  },
  {
   "cell_type": "code",
   "execution_count": 101,
   "metadata": {},
   "outputs": [
    {
     "data": {
      "text/html": [
       "<div>\n",
       "<style scoped>\n",
       "    .dataframe tbody tr th:only-of-type {\n",
       "        vertical-align: middle;\n",
       "    }\n",
       "\n",
       "    .dataframe tbody tr th {\n",
       "        vertical-align: top;\n",
       "    }\n",
       "\n",
       "    .dataframe thead th {\n",
       "        text-align: right;\n",
       "    }\n",
       "</style>\n",
       "<table border=\"1\" class=\"dataframe\">\n",
       "  <thead>\n",
       "    <tr style=\"text-align: right;\">\n",
       "      <th></th>\n",
       "      <th>Student ID</th>\n",
       "      <th>student_name</th>\n",
       "      <th>gender</th>\n",
       "      <th>grade</th>\n",
       "      <th>school_name</th>\n",
       "      <th>reading_score</th>\n",
       "      <th>math_score</th>\n",
       "    </tr>\n",
       "  </thead>\n",
       "  <tbody>\n",
       "    <tr>\n",
       "      <th>0</th>\n",
       "      <td>0</td>\n",
       "      <td>Paul Bradley</td>\n",
       "      <td>M</td>\n",
       "      <td>9th</td>\n",
       "      <td>Huang High School</td>\n",
       "      <td>66</td>\n",
       "      <td>79</td>\n",
       "    </tr>\n",
       "  </tbody>\n",
       "</table>\n",
       "</div>"
      ],
      "text/plain": [
       "   Student ID  student_name gender grade        school_name  reading_score  \\\n",
       "0           0  Paul Bradley      M   9th  Huang High School             66   \n",
       "\n",
       "   math_score  \n",
       "0          79  "
      ]
     },
     "execution_count": 101,
     "metadata": {},
     "output_type": "execute_result"
    }
   ],
   "source": [
    "student_df.head(1)"
   ]
  },
  {
   "cell_type": "code",
   "execution_count": 119,
   "metadata": {},
   "outputs": [],
   "source": [
    "## Create Columns That Assume Fail before 70+ Result\n",
    "student_df['pRead'] = 'Fail'\n",
    "student_df['pMath'] = 'Fail'\n",
    "student_df['pComb'] = 'Fail'"
   ]
  },
  {
   "cell_type": "code",
   "execution_count": 120,
   "metadata": {},
   "outputs": [
    {
     "data": {
      "text/html": [
       "<div>\n",
       "<style scoped>\n",
       "    .dataframe tbody tr th:only-of-type {\n",
       "        vertical-align: middle;\n",
       "    }\n",
       "\n",
       "    .dataframe tbody tr th {\n",
       "        vertical-align: top;\n",
       "    }\n",
       "\n",
       "    .dataframe thead th {\n",
       "        text-align: right;\n",
       "    }\n",
       "</style>\n",
       "<table border=\"1\" class=\"dataframe\">\n",
       "  <thead>\n",
       "    <tr style=\"text-align: right;\">\n",
       "      <th></th>\n",
       "      <th>Student ID</th>\n",
       "      <th>student_name</th>\n",
       "      <th>gender</th>\n",
       "      <th>grade</th>\n",
       "      <th>school_name</th>\n",
       "      <th>reading_score</th>\n",
       "      <th>math_score</th>\n",
       "      <th>pRead</th>\n",
       "      <th>pMath</th>\n",
       "      <th>pComb</th>\n",
       "    </tr>\n",
       "  </thead>\n",
       "  <tbody>\n",
       "    <tr>\n",
       "      <th>0</th>\n",
       "      <td>0</td>\n",
       "      <td>Paul Bradley</td>\n",
       "      <td>M</td>\n",
       "      <td>9th</td>\n",
       "      <td>Huang High School</td>\n",
       "      <td>66</td>\n",
       "      <td>79</td>\n",
       "      <td>Fail</td>\n",
       "      <td>Pass</td>\n",
       "      <td>Fail</td>\n",
       "    </tr>\n",
       "    <tr>\n",
       "      <th>1</th>\n",
       "      <td>1</td>\n",
       "      <td>Victor Smith</td>\n",
       "      <td>M</td>\n",
       "      <td>12th</td>\n",
       "      <td>Huang High School</td>\n",
       "      <td>94</td>\n",
       "      <td>61</td>\n",
       "      <td>Pass</td>\n",
       "      <td>Fail</td>\n",
       "      <td>Fail</td>\n",
       "    </tr>\n",
       "    <tr>\n",
       "      <th>2</th>\n",
       "      <td>2</td>\n",
       "      <td>Kevin Rodriguez</td>\n",
       "      <td>M</td>\n",
       "      <td>12th</td>\n",
       "      <td>Huang High School</td>\n",
       "      <td>90</td>\n",
       "      <td>60</td>\n",
       "      <td>Pass</td>\n",
       "      <td>Fail</td>\n",
       "      <td>Fail</td>\n",
       "    </tr>\n",
       "    <tr>\n",
       "      <th>3</th>\n",
       "      <td>3</td>\n",
       "      <td>Dr. Richard Scott</td>\n",
       "      <td>M</td>\n",
       "      <td>12th</td>\n",
       "      <td>Huang High School</td>\n",
       "      <td>67</td>\n",
       "      <td>58</td>\n",
       "      <td>Fail</td>\n",
       "      <td>Fail</td>\n",
       "      <td>Fail</td>\n",
       "    </tr>\n",
       "    <tr>\n",
       "      <th>4</th>\n",
       "      <td>4</td>\n",
       "      <td>Bonnie Ray</td>\n",
       "      <td>F</td>\n",
       "      <td>9th</td>\n",
       "      <td>Huang High School</td>\n",
       "      <td>97</td>\n",
       "      <td>84</td>\n",
       "      <td>Pass</td>\n",
       "      <td>Pass</td>\n",
       "      <td>Pass</td>\n",
       "    </tr>\n",
       "    <tr>\n",
       "      <th>5</th>\n",
       "      <td>5</td>\n",
       "      <td>Bryan Miranda</td>\n",
       "      <td>M</td>\n",
       "      <td>9th</td>\n",
       "      <td>Huang High School</td>\n",
       "      <td>94</td>\n",
       "      <td>94</td>\n",
       "      <td>Pass</td>\n",
       "      <td>Pass</td>\n",
       "      <td>Pass</td>\n",
       "    </tr>\n",
       "    <tr>\n",
       "      <th>6</th>\n",
       "      <td>6</td>\n",
       "      <td>Sheena Carter</td>\n",
       "      <td>F</td>\n",
       "      <td>11th</td>\n",
       "      <td>Huang High School</td>\n",
       "      <td>82</td>\n",
       "      <td>80</td>\n",
       "      <td>Pass</td>\n",
       "      <td>Pass</td>\n",
       "      <td>Pass</td>\n",
       "    </tr>\n",
       "    <tr>\n",
       "      <th>7</th>\n",
       "      <td>7</td>\n",
       "      <td>Nicole Baker</td>\n",
       "      <td>F</td>\n",
       "      <td>12th</td>\n",
       "      <td>Huang High School</td>\n",
       "      <td>96</td>\n",
       "      <td>69</td>\n",
       "      <td>Pass</td>\n",
       "      <td>Fail</td>\n",
       "      <td>Fail</td>\n",
       "    </tr>\n",
       "    <tr>\n",
       "      <th>8</th>\n",
       "      <td>8</td>\n",
       "      <td>Michael Roth</td>\n",
       "      <td>M</td>\n",
       "      <td>10th</td>\n",
       "      <td>Huang High School</td>\n",
       "      <td>95</td>\n",
       "      <td>87</td>\n",
       "      <td>Pass</td>\n",
       "      <td>Pass</td>\n",
       "      <td>Pass</td>\n",
       "    </tr>\n",
       "    <tr>\n",
       "      <th>9</th>\n",
       "      <td>9</td>\n",
       "      <td>Matthew Greene</td>\n",
       "      <td>M</td>\n",
       "      <td>10th</td>\n",
       "      <td>Huang High School</td>\n",
       "      <td>96</td>\n",
       "      <td>84</td>\n",
       "      <td>Pass</td>\n",
       "      <td>Pass</td>\n",
       "      <td>Pass</td>\n",
       "    </tr>\n",
       "    <tr>\n",
       "      <th>10</th>\n",
       "      <td>10</td>\n",
       "      <td>Andrew Alexander</td>\n",
       "      <td>M</td>\n",
       "      <td>10th</td>\n",
       "      <td>Huang High School</td>\n",
       "      <td>90</td>\n",
       "      <td>70</td>\n",
       "      <td>Pass</td>\n",
       "      <td>Pass</td>\n",
       "      <td>Pass</td>\n",
       "    </tr>\n",
       "    <tr>\n",
       "      <th>11</th>\n",
       "      <td>11</td>\n",
       "      <td>Daniel Cooper</td>\n",
       "      <td>M</td>\n",
       "      <td>10th</td>\n",
       "      <td>Huang High School</td>\n",
       "      <td>78</td>\n",
       "      <td>77</td>\n",
       "      <td>Pass</td>\n",
       "      <td>Pass</td>\n",
       "      <td>Pass</td>\n",
       "    </tr>\n",
       "    <tr>\n",
       "      <th>12</th>\n",
       "      <td>12</td>\n",
       "      <td>Brittney Walker</td>\n",
       "      <td>F</td>\n",
       "      <td>9th</td>\n",
       "      <td>Huang High School</td>\n",
       "      <td>64</td>\n",
       "      <td>79</td>\n",
       "      <td>Fail</td>\n",
       "      <td>Pass</td>\n",
       "      <td>Fail</td>\n",
       "    </tr>\n",
       "    <tr>\n",
       "      <th>13</th>\n",
       "      <td>13</td>\n",
       "      <td>William Long</td>\n",
       "      <td>M</td>\n",
       "      <td>9th</td>\n",
       "      <td>Huang High School</td>\n",
       "      <td>71</td>\n",
       "      <td>79</td>\n",
       "      <td>Pass</td>\n",
       "      <td>Pass</td>\n",
       "      <td>Pass</td>\n",
       "    </tr>\n",
       "    <tr>\n",
       "      <th>14</th>\n",
       "      <td>14</td>\n",
       "      <td>Tammy Hebert</td>\n",
       "      <td>F</td>\n",
       "      <td>10th</td>\n",
       "      <td>Huang High School</td>\n",
       "      <td>85</td>\n",
       "      <td>67</td>\n",
       "      <td>Pass</td>\n",
       "      <td>Fail</td>\n",
       "      <td>Fail</td>\n",
       "    </tr>\n",
       "    <tr>\n",
       "      <th>15</th>\n",
       "      <td>15</td>\n",
       "      <td>Dr. Jordan Carson</td>\n",
       "      <td>M</td>\n",
       "      <td>11th</td>\n",
       "      <td>Huang High School</td>\n",
       "      <td>94</td>\n",
       "      <td>88</td>\n",
       "      <td>Pass</td>\n",
       "      <td>Pass</td>\n",
       "      <td>Pass</td>\n",
       "    </tr>\n",
       "    <tr>\n",
       "      <th>16</th>\n",
       "      <td>16</td>\n",
       "      <td>Donald Zamora</td>\n",
       "      <td>M</td>\n",
       "      <td>9th</td>\n",
       "      <td>Huang High School</td>\n",
       "      <td>88</td>\n",
       "      <td>55</td>\n",
       "      <td>Pass</td>\n",
       "      <td>Fail</td>\n",
       "      <td>Fail</td>\n",
       "    </tr>\n",
       "    <tr>\n",
       "      <th>17</th>\n",
       "      <td>17</td>\n",
       "      <td>Kimberly Santiago</td>\n",
       "      <td>F</td>\n",
       "      <td>9th</td>\n",
       "      <td>Huang High School</td>\n",
       "      <td>74</td>\n",
       "      <td>75</td>\n",
       "      <td>Pass</td>\n",
       "      <td>Pass</td>\n",
       "      <td>Pass</td>\n",
       "    </tr>\n",
       "    <tr>\n",
       "      <th>18</th>\n",
       "      <td>18</td>\n",
       "      <td>Kevin Stevens</td>\n",
       "      <td>M</td>\n",
       "      <td>9th</td>\n",
       "      <td>Huang High School</td>\n",
       "      <td>64</td>\n",
       "      <td>69</td>\n",
       "      <td>Fail</td>\n",
       "      <td>Fail</td>\n",
       "      <td>Fail</td>\n",
       "    </tr>\n",
       "    <tr>\n",
       "      <th>19</th>\n",
       "      <td>19</td>\n",
       "      <td>Brandi Lyons</td>\n",
       "      <td>F</td>\n",
       "      <td>9th</td>\n",
       "      <td>Huang High School</td>\n",
       "      <td>89</td>\n",
       "      <td>80</td>\n",
       "      <td>Pass</td>\n",
       "      <td>Pass</td>\n",
       "      <td>Pass</td>\n",
       "    </tr>\n",
       "  </tbody>\n",
       "</table>\n",
       "</div>"
      ],
      "text/plain": [
       "    Student ID       student_name gender grade        school_name  \\\n",
       "0            0       Paul Bradley      M   9th  Huang High School   \n",
       "1            1       Victor Smith      M  12th  Huang High School   \n",
       "2            2    Kevin Rodriguez      M  12th  Huang High School   \n",
       "3            3  Dr. Richard Scott      M  12th  Huang High School   \n",
       "4            4         Bonnie Ray      F   9th  Huang High School   \n",
       "5            5      Bryan Miranda      M   9th  Huang High School   \n",
       "6            6      Sheena Carter      F  11th  Huang High School   \n",
       "7            7       Nicole Baker      F  12th  Huang High School   \n",
       "8            8       Michael Roth      M  10th  Huang High School   \n",
       "9            9     Matthew Greene      M  10th  Huang High School   \n",
       "10          10   Andrew Alexander      M  10th  Huang High School   \n",
       "11          11      Daniel Cooper      M  10th  Huang High School   \n",
       "12          12    Brittney Walker      F   9th  Huang High School   \n",
       "13          13       William Long      M   9th  Huang High School   \n",
       "14          14       Tammy Hebert      F  10th  Huang High School   \n",
       "15          15  Dr. Jordan Carson      M  11th  Huang High School   \n",
       "16          16      Donald Zamora      M   9th  Huang High School   \n",
       "17          17  Kimberly Santiago      F   9th  Huang High School   \n",
       "18          18      Kevin Stevens      M   9th  Huang High School   \n",
       "19          19       Brandi Lyons      F   9th  Huang High School   \n",
       "\n",
       "    reading_score  math_score pRead pMath pComb  \n",
       "0              66          79  Fail  Pass  Fail  \n",
       "1              94          61  Pass  Fail  Fail  \n",
       "2              90          60  Pass  Fail  Fail  \n",
       "3              67          58  Fail  Fail  Fail  \n",
       "4              97          84  Pass  Pass  Pass  \n",
       "5              94          94  Pass  Pass  Pass  \n",
       "6              82          80  Pass  Pass  Pass  \n",
       "7              96          69  Pass  Fail  Fail  \n",
       "8              95          87  Pass  Pass  Pass  \n",
       "9              96          84  Pass  Pass  Pass  \n",
       "10             90          70  Pass  Pass  Pass  \n",
       "11             78          77  Pass  Pass  Pass  \n",
       "12             64          79  Fail  Pass  Fail  \n",
       "13             71          79  Pass  Pass  Pass  \n",
       "14             85          67  Pass  Fail  Fail  \n",
       "15             94          88  Pass  Pass  Pass  \n",
       "16             88          55  Pass  Fail  Fail  \n",
       "17             74          75  Pass  Pass  Pass  \n",
       "18             64          69  Fail  Fail  Fail  \n",
       "19             89          80  Pass  Pass  Pass  "
      ]
     },
     "execution_count": 120,
     "metadata": {},
     "output_type": "execute_result"
    }
   ],
   "source": [
    "## Edit Columns for successful students to Pass\n",
    "student_df.loc[student_df['reading_score'] >= 70, 'pRead'] = 'Pass'\n",
    "student_df.loc[student_df['math_score'] >= 70, 'pMath'] = 'Pass'\n",
    "student_df.loc[(student_df['reading_score'] >= 70) & (student_df['math_score'] >= 70), 'pComb'] = 'Pass'\n",
    "student_df.head(20)"
   ]
  },
  {
   "cell_type": "code",
   "execution_count": 121,
   "metadata": {},
   "outputs": [],
   "source": [
    "pRdist = (student_df['pRead'] == 'Pass').count()\n",
    "pMdist = (student_df['pMath'] == 'Pass').count()\n",
    "pAdist = (student_df['pComb'] == 'Pass').count()"
   ]
  },
  {
   "cell_type": "code",
   "execution_count": 122,
   "metadata": {},
   "outputs": [
    {
     "data": {
      "text/plain": [
       "dtype('int64')"
      ]
     },
     "execution_count": 122,
     "metadata": {},
     "output_type": "execute_result"
    }
   ],
   "source": [
    "pRdist.dtype"
   ]
  },
  {
   "cell_type": "code",
   "execution_count": 123,
   "metadata": {},
   "outputs": [
    {
     "name": "stdout",
     "output_type": "stream",
     "text": [
      "39170\n"
     ]
    }
   ],
   "source": [
    "print(pRdist)"
   ]
  },
  {
   "cell_type": "code",
   "execution_count": 124,
   "metadata": {},
   "outputs": [
    {
     "name": "stdout",
     "output_type": "stream",
     "text": [
      "39170\n"
     ]
    }
   ],
   "source": [
    "print(pAdist)"
   ]
  },
  {
   "cell_type": "code",
   "execution_count": null,
   "metadata": {},
   "outputs": [],
   "source": [
    "# Combine the data into a single dataset.  \n",
    "comb_df = pd.merge(school_df, student_df, on=[\"school_name\"])"
   ]
  },
  {
   "cell_type": "code",
   "execution_count": null,
   "metadata": {},
   "outputs": [],
   "source": [
    "comb_df.head(1)"
   ]
  },
  {
   "cell_type": "code",
   "execution_count": null,
   "metadata": {
    "scrolled": true
   },
   "outputs": [],
   "source": [
    "#  INFO comb_df.dtypes"
   ]
  },
  {
   "cell_type": "code",
   "execution_count": null,
   "metadata": {},
   "outputs": [],
   "source": [
    "# Split DataFrames for each School\n",
    "hua_df = comb_df[comb_df['school_name'] == 'Huang High School']\n",
    "fig_df = comb_df[comb_df['school_name'] == 'Figueroa High School']\n",
    "she_df = comb_df[comb_df['school_name'] == 'Shelton High School']\n",
    "her_df = comb_df[comb_df['school_name'] == 'Hernandez High School']\n",
    "gri_df = comb_df[comb_df['school_name'] == 'Griffin High School']\n",
    "wil_df = comb_df[comb_df['school_name'] == 'Wilson High School']\n",
    "cab_df = comb_df[comb_df['school_name'] == 'Cabrera High School']\n",
    "bai_df = comb_df[comb_df['school_name'] == 'Bailey High School']\n",
    "hol_df = comb_df[comb_df['school_name'] == 'Holden High School']\n",
    "pen_df = comb_df[comb_df['school_name'] == 'Pena High School']\n",
    "wri_df = comb_df[comb_df['school_name'] == 'Wright High School']\n",
    "rod_df = comb_df[comb_df['school_name'] == 'Rodriquez High School']\n",
    "joh_df = comb_df[comb_df['school_name'] == 'Johnson High School']\n",
    "for_df = comb_df[comb_df['school_name'] == 'Ford High School']\n",
    "tho_df = comb_df[comb_df['school_name'] == 'Thomas High School']"
   ]
  },
  {
   "cell_type": "code",
   "execution_count": null,
   "metadata": {},
   "outputs": [],
   "source": [
    "# Assign Variables to Total Student Counts by School\n",
    "huaSt = school_df.iloc[0, 3]\n",
    "figSt = school_df.iloc[1, 3]\n",
    "sheSt = school_df.iloc[2, 3]\n",
    "herSt = school_df.iloc[3, 3]\n",
    "griSt = school_df.iloc[4, 3]\n",
    "wilSt = school_df.iloc[5, 3]\n",
    "cabSt = school_df.iloc[6, 3]\n",
    "baiSt = school_df.iloc[7, 3]\n",
    "holSt = school_df.iloc[8, 3]\n",
    "penSt = school_df.iloc[9, 3]\n",
    "wriSt = school_df.iloc[10, 3]\n",
    "rodSt = school_df.iloc[11, 3]\n",
    "johSt = school_df.iloc[12, 3]\n",
    "forSt = school_df.iloc[13, 3]\n",
    "thoSt = school_df.iloc[14, 3]"
   ]
  },
  {
   "cell_type": "code",
   "execution_count": null,
   "metadata": {},
   "outputs": [],
   "source": [
    "print(huaSt)"
   ]
  },
  {
   "cell_type": "code",
   "execution_count": null,
   "metadata": {},
   "outputs": [],
   "source": [
    "distSt = school_df[\"size\"].sum()"
   ]
  },
  {
   "cell_type": "code",
   "execution_count": null,
   "metadata": {},
   "outputs": [],
   "source": [
    "# Assign Variables to Values counts for entire District\n",
    "pRdist = student_df.loc[(student_df[\"reading_score\"] >= 70), :].count()\n",
    "pMdist = student_df.loc[(student_df[\"math_score\"] >= 70), :].count()\n",
    "pAdist = student_df.loc[(student_df[\"reading_score\"] >= 70) & (student_df[\"math_score\"] >=70), :].count().astype(int)"
   ]
  },
  {
   "cell_type": "code",
   "execution_count": null,
   "metadata": {},
   "outputs": [],
   "source": [
    "print(pAdist)"
   ]
  },
  {
   "cell_type": "code",
   "execution_count": null,
   "metadata": {},
   "outputs": [],
   "source": [
    "# More Variables for District -- Averages\n",
    "aRdist = student_df['reading_score'].mean()\n",
    "aMdist = student_df['math_score'].mean()\n",
    "\n",
    "# More Variables for District -- Percentages\n",
    "ppMdist = (pRdist/distSt)\n",
    "ppMdist = (pMdist/distSt)\n",
    "ppMdist = (pAdist/distSt)"
   ]
  },
  {
   "cell_type": "code",
   "execution_count": null,
   "metadata": {},
   "outputs": [],
   "source": [
    "# Count Passing Students in 3 Criteria by School\n",
    "pRhua = hua_df.loc[(hua_df[\"reading_score\"] >= 70), :].count()\n",
    "pMhua = hua_df.loc[(hua_df[\"math_score\"] >=70), :].count()\n",
    "pAhua = hua_df.loc[(hua_df[\"reading_score\"] >= 70) & (hua_df[\"math_score\"] >=70), :].count()\n",
    "#----------------------------------------\n",
    "pRfig = fig_df.loc[(fig_df[\"reading_score\"] >= 70), :].count()\n",
    "pMfig = fig_df.loc[(fig_df[\"math_score\"] >=70), :].count()\n",
    "pAfig = fig_df.loc[(fig_df[\"reading_score\"] >= 70) & (fig_df[\"math_score\"] >=70), :].count()\n",
    "#----------------------------------------\n",
    "pRshe = she_df.loc[(she_df[\"reading_score\"] >= 70), :].count()\n",
    "pMshe = she_df.loc[(she_df[\"math_score\"] >=70), :].count()\n",
    "pAshe = she_df.loc[(she_df[\"reading_score\"] >= 70) & (she_df[\"math_score\"] >=70), :].count()\n",
    "#----------------------------------------\n",
    "pRher = her_df.loc[(her_df[\"reading_score\"] >= 70), :].count()\n",
    "pMher = her_df.loc[(her_df[\"math_score\"] >=70), :].count()\n",
    "pAher = her_df.loc[(her_df[\"reading_score\"] >= 70) & (her_df[\"math_score\"] >=70), :].count()\n",
    "#----------------------------------------\n",
    "pRgri = gri_df.loc[(gri_df[\"reading_score\"] >= 70), :].count()\n",
    "pMgri = gri_df.loc[(gri_df[\"math_score\"] >=70), :].count()\n",
    "pAgri = gri_df.loc[(gri_df[\"reading_score\"] >= 70) & (gri_df[\"math_score\"] >=70), :].count()\n",
    "#----------------------------------------\n",
    "pRwil = wil_df.loc[(wil_df[\"reading_score\"] >= 70), :].count()\n",
    "pMwil = wil_df.loc[(wil_df[\"math_score\"] >=70), :].count()\n",
    "pAwil = wil_df.loc[(wil_df[\"reading_score\"] >= 70) & (wil_df[\"math_score\"] >=70), :].count()\n",
    "#----------------------------------------\n",
    "pRcab = cab_df.loc[(cab_df[\"reading_score\"] >= 70), :].count()\n",
    "pMcab = cab_df.loc[(cab_df[\"math_score\"] >=70), :].count()\n",
    "pAcab = cab_df.loc[(cab_df[\"reading_score\"] >= 70) & (cab_df[\"math_score\"] >=70), :].count()\n",
    "#----------------------------------------\n",
    "pRbai = bai_df.loc[(bai_df[\"reading_score\"] >= 70), :].count()\n",
    "pMbai = bai_df.loc[(bai_df[\"math_score\"] >=70), :].count()\n",
    "pAbai = bai_df.loc[(bai_df[\"reading_score\"] >= 70) & (bai_df[\"math_score\"] >=70), :].count()\n",
    "#----------------------------------------\n",
    "pRhol = hol_df.loc[(hol_df[\"reading_score\"] >= 70), :].count()\n",
    "pMhol = hol_df.loc[(hol_df[\"math_score\"] >=70), :].count()\n",
    "pAhol = hol_df.loc[(hol_df[\"reading_score\"] >= 70) & (hol_df[\"math_score\"] >=70), :].count()\n",
    "#----------------------------------------\n",
    "pRpen = pen_df.loc[(pen_df[\"reading_score\"] >= 70), :].count()\n",
    "pMpen = pen_df.loc[(pen_df[\"math_score\"] >=70), :].count()\n",
    "pApen = pen_df.loc[(pen_df[\"reading_score\"] >= 70) & (pen_df[\"math_score\"] >=70), :].count()\n",
    "#----------------------------------------\n",
    "pRwri = wri_df.loc[(wri_df[\"reading_score\"] >= 70), :].count()\n",
    "pMwri = wri_df.loc[(wri_df[\"math_score\"] >=70), :].count()\n",
    "pAwri = wri_df.loc[(wri_df[\"reading_score\"] >= 70) & (wri_df[\"math_score\"] >=70), :].count()\n",
    "#----------------------------------------\n",
    "pRrod = rod_df.loc[(rod_df[\"reading_score\"] >= 70), :].count()\n",
    "pMrod = rod_df.loc[(rod_df[\"math_score\"] >=70), :].count()\n",
    "pArod = rod_df.loc[(rod_df[\"reading_score\"] >= 70) & (rod_df[\"math_score\"] >=70), :].count()\n",
    "#----------------------------------------\n",
    "pRjoh = joh_df.loc[(joh_df[\"reading_score\"] >= 70), :].count()\n",
    "pMjoh = joh_df.loc[(joh_df[\"math_score\"] >=70), :].count()\n",
    "pAjoh = joh_df.loc[(joh_df[\"reading_score\"] >= 70) & (joh_df[\"math_score\"] >=70), :].count()\n",
    "#----------------------------------------\n",
    "pRfor = for_df.loc[(for_df[\"reading_score\"] >= 70), :].count()\n",
    "pMfor = for_df.loc[(for_df[\"math_score\"] >=70), :].count()\n",
    "pAfor = for_df.loc[(for_df[\"reading_score\"] >= 70) & (for_df[\"math_score\"] >=70), :].count()\n",
    "#----------------------------------------\n",
    "pRtho = tho_df.loc[(tho_df[\"reading_score\"] >= 70), :].count()\n",
    "pMtho = tho_df.loc[(tho_df[\"math_score\"] >=70), :].count()\n",
    "pAtho = tho_df.loc[(tho_df[\"reading_score\"] >= 70) & (tho_df[\"math_score\"] >=70), :].count()\n"
   ]
  },
  {
   "cell_type": "code",
   "execution_count": null,
   "metadata": {},
   "outputs": [],
   "source": [
    "# Assign Varables to Reading Averages by School\n",
    "aRhua = hua_df['reading_score'].mean()\n",
    "aRfig = fig_df['reading_score'].mean()\n",
    "aRshe = she_df['reading_score'].mean()\n",
    "aRher = her_df['reading_score'].mean()\n",
    "aRgri = gri_df['reading_score'].mean()\n",
    "aRwil = wil_df['reading_score'].mean()\n",
    "aRcab = cab_df['reading_score'].mean()\n",
    "aRbai = bai_df['reading_score'].mean()\n",
    "aRhol = hol_df['reading_score'].mean()\n",
    "aRpen = pen_df['reading_score'].mean()\n",
    "aRwri = wri_df['reading_score'].mean()\n",
    "aRrod = rod_df['reading_score'].mean()\n",
    "aRjoh = joh_df['reading_score'].mean()\n",
    "aRfor = for_df['reading_score'].mean()\n",
    "aRtho = tho_df['reading_score'].mean()"
   ]
  },
  {
   "cell_type": "code",
   "execution_count": null,
   "metadata": {},
   "outputs": [],
   "source": [
    "# Assign Varables to Math Averages by School math\n",
    "aMhua = hua_df['math_score'].mean()\n",
    "aMfig = fig_df['math_score'].mean()\n",
    "aMshe = she_df['math_score'].mean()\n",
    "aMher = her_df['math_score'].mean()\n",
    "aMgri = gri_df['math_score'].mean()\n",
    "aMwil = wil_df['math_score'].mean()\n",
    "aMcab = cab_df['math_score'].mean()\n",
    "aMbai = bai_df['math_score'].mean()\n",
    "aMhol = hol_df['math_score'].mean()\n",
    "aMpen = pen_df['math_score'].mean()\n",
    "aMwri = wri_df['math_score'].mean()\n",
    "aMrod = rod_df['math_score'].mean()\n",
    "aMjoh = joh_df['math_score'].mean()\n",
    "aMfor = for_df['math_score'].mean()\n",
    "aMtho = tho_df['math_score'].mean()"
   ]
  },
  {
   "cell_type": "code",
   "execution_count": null,
   "metadata": {},
   "outputs": [],
   "source": [
    "# Assign Varables to Reading Percentages by School\n",
    "ppRhua = (pRhua/huaSt)\n",
    "ppRfig = (pRfig/figSt)\n",
    "ppRshe = (pRshe/sheSt)\n",
    "ppRher = (pRher/herSt)\n",
    "ppRgri = (pRgri/griSt)\n",
    "ppRwil = (pRwil/wilSt)\n",
    "ppRcab = (pRcab/cabSt)\n",
    "ppRbai = (pRbai/baiSt)\n",
    "ppRhol = (pRhol/holSt)\n",
    "ppRpen = (pRpen/penSt)\n",
    "ppRwri = (pRwri/wriSt)\n",
    "ppRrod = (pRrod/rodSt)\n",
    "ppRjoh = (pRjoh/johSt)\n",
    "ppRfor = (pRfor/forSt)\n",
    "ppRtho = (pRtho/thoSt)"
   ]
  },
  {
   "cell_type": "code",
   "execution_count": null,
   "metadata": {},
   "outputs": [],
   "source": [
    "# Assign Varables to Math Percentages by School\n",
    "ppMhua = (pMhua/huaSt)\n",
    "ppMfig = (pMfig/figSt)\n",
    "ppMshe = (pMshe/sheSt)\n",
    "ppMher = (pMher/herSt)\n",
    "ppMgri = (pMgri/griSt)\n",
    "ppMwil = (pMwil/wilSt)\n",
    "ppMcab = (pMcab/cabSt)\n",
    "ppMbai = (pMbai/baiSt)\n",
    "ppMhol = (pMhol/holSt)\n",
    "ppMpen = (pMpen/penSt)\n",
    "ppMwri = (pMwri/wriSt)\n",
    "ppMrod = (pMrod/rodSt)\n",
    "ppMjoh = (pMjoh/johSt)\n",
    "ppMfor = (pMfor/forSt)\n",
    "ppMtho = (pMtho/thoSt)"
   ]
  },
  {
   "cell_type": "code",
   "execution_count": null,
   "metadata": {},
   "outputs": [],
   "source": [
    "# Assign Varables to Overall Percentages by School\n",
    "ppAhua = (pAhua/huaSt)\n",
    "ppAfig = (pAfig/figSt)\n",
    "ppAshe = (pAshe/sheSt)\n",
    "ppAher = (pAher/herSt)\n",
    "ppAgri = (pAgri/griSt)\n",
    "ppAwil = (pAwil/wilSt)\n",
    "ppAcab = (pAcab/cabSt)\n",
    "ppAbai = (pAbai/baiSt)\n",
    "ppAhol = (pAhol/holSt)\n",
    "ppApen = (pApen/penSt)\n",
    "ppAwri = (pAwri/wriSt)\n",
    "ppArod = (pArod/rodSt)\n",
    "ppAjoh = (pAjoh/johSt)\n",
    "ppAfor = (pAfor/forSt)\n",
    "ppAtho = (pAtho/thoSt)"
   ]
  },
  {
   "cell_type": "code",
   "execution_count": null,
   "metadata": {},
   "outputs": [],
   "source": [
    "student_df[\"school_name\"].unique()"
   ]
  },
  {
   "cell_type": "markdown",
   "metadata": {},
   "source": [
    "## District Summary"
   ]
  },
  {
   "cell_type": "code",
   "execution_count": null,
   "metadata": {},
   "outputs": [],
   "source": [
    "# Calculate the total number of schools\n",
    "schoolCt = school_df[\"school_name\"].nunique()"
   ]
  },
  {
   "cell_type": "code",
   "execution_count": null,
   "metadata": {},
   "outputs": [],
   "source": [
    "# Calculate the total number of students\n",
    "distSt = student_df[\"student_name\"].count()"
   ]
  },
  {
   "cell_type": "code",
   "execution_count": null,
   "metadata": {},
   "outputs": [],
   "source": [
    "# Caluculate the total budget\n",
    "distBudg = school_df[\"budget\"].sum()"
   ]
  },
  {
   "cell_type": "code",
   "execution_count": null,
   "metadata": {},
   "outputs": [],
   "source": [
    "# Calculate the average reading score\n",
    "rAvg = student_df[\"reading_score\"].mean()"
   ]
  },
  {
   "cell_type": "code",
   "execution_count": null,
   "metadata": {},
   "outputs": [],
   "source": [
    "# Calculate the average math score\n",
    "mAvg = student_df[\"math_score\"].mean()"
   ]
  },
  {
   "cell_type": "code",
   "execution_count": null,
   "metadata": {},
   "outputs": [],
   "source": [
    "# Calculate the percentage of passing students in 3 categories\n",
    "ppRdist = (pRdist / distSt) * 100\n",
    "ppMdist = (pMdist / distSt) * 100\n",
    "ppAdist = (pAdist / distSt) * 100"
   ]
  },
  {
   "cell_type": "code",
   "execution_count": null,
   "metadata": {},
   "outputs": [],
   "source": [
    "# Optional: give the displayed data cleaner formatting"
   ]
  },
  {
   "cell_type": "markdown",
   "metadata": {},
   "source": [
    "# <span style=\"color: blue;\">CURRENTLY</span> <span style=\"color: green;\">WORKING</span> <span style=\"color: red;\">HERE</span>"
   ]
  },
  {
   "cell_type": "code",
   "execution_count": null,
   "metadata": {},
   "outputs": [],
   "source": [
    "# Create a dataframe to hold the above results\n",
    "dist_summary = {'Total Schools': schoolCt, 'Total Students': distSt, 'Total Budget': distBudg, \\\n",
    "                          'Average Math Score': mAvg, 'Average Reading score': rAvg, '% Passing Reading': ppRdist, \\\n",
    "                          '% Passing Math': ppMdist, '% Overall Passing': ppAdist}\n",
    "(dist_summary)"
   ]
  },
  {
   "cell_type": "code",
   "execution_count": null,
   "metadata": {},
   "outputs": [],
   "source": [
    "combined_df.head(1)"
   ]
  },
  {
   "cell_type": "markdown",
   "metadata": {},
   "source": [
    "## School Summary"
   ]
  },
  {
   "cell_type": "code",
   "execution_count": null,
   "metadata": {},
   "outputs": [],
   "source": [
    "# Create lists and add them to the dataframe\n",
    "rAvgs = pd.Series[(pRhua / huaSt)], #(pRfig) / (figSt), (pRshe) / (sheSt), (pRher) / (herSt), (pRgri) / (griSt), \\\n",
    "                  #(pRwil) / (wilSt), (pRcab) / (cabSt), (pRbai) / (baiSt), (pRhol) / (holSt), (pRpen) / (penSt), \\\n",
    "                  #(pRwri) / (wriSt), (pRrod) / (rodSt), (pRjoh) / (johSt), (pRfor) / (forSt), (pRtho) / (thoSt)]\n",
    "\n",
    "\n",
    "\n",
    "print(rAvgs)"
   ]
  },
  {
   "cell_type": "code",
   "execution_count": null,
   "metadata": {},
   "outputs": [],
   "source": [
    "a = [1, 7, 2]\n",
    "\n",
    "myvar = pd.Series(a, index = [\"x\", \"y\", \"z\"])\n",
    "\n",
    "print(myvar)"
   ]
  },
  {
   "cell_type": "code",
   "execution_count": null,
   "metadata": {},
   "outputs": [],
   "source": [
    "# Create a Summary DataFrame for school results"
   ]
  },
  {
   "cell_type": "code",
   "execution_count": null,
   "metadata": {},
   "outputs": [],
   "source": [
    "sch_sum_df = pd.DataFrame({\n",
    "        \"School Name\": [\"Huang High School\", \"Figueroa High School\", \"Shelton High School\", \"Hernandez High School\", \"Griffin High School\",\\\n",
    "        \"Wilson High School\", \"Cabrera High School\", \"Bailey High School\", \"Holden High School\", \"Pena High School\", \\\n",
    "        \"Wright High School\", \"Rodriguez High School\", \"Johnson High School\", \"Ford High School\", \"Thomas High School\"],\n",
    "        \"School Type\":                  })\n",
    "\n",
    "# School Type\n",
    "typeSch = combined_df[\"type\"]\n",
    "# Total Students\n",
    "studCt = combined_df[\"size\"]\n",
    "# Total School Budget\n",
    "schoolBudg = combined_df[\"budget\"]\n",
    "# Per Student Budget\n",
    "iBudg = (schoolBudg / studCt)\n",
    "# Average Math Score\n",
    "mSchAvg = ##perschool##\"math_score\"().mean\n",
    "# Average Reading Score\n",
    "rSchAvg = ##perschool##\"reading_score\"().mean\n",
    "# % Passing Math\n",
    "ppMath##perschool##().mean\n",
    "# % Passing Reading\n",
    "ppReading##perschool##.mean\n",
    "# % Overall Passing (The percentage of students that passed math **and** reading.)\n",
    "ppBothper##perschool##().mean\n",
    "  "
   ]
  },
  {
   "cell_type": "code",
   "execution_count": null,
   "metadata": {},
   "outputs": [],
   "source": []
  },
  {
   "cell_type": "markdown",
   "metadata": {},
   "source": [
    "## Top Performing Schools (By % Overall Passing)"
   ]
  },
  {
   "cell_type": "markdown",
   "metadata": {},
   "source": [
    "* Sort and display the top five performing schools by % overall passing."
   ]
  },
  {
   "cell_type": "code",
   "execution_count": null,
   "metadata": {
    "scrolled": true
   },
   "outputs": [],
   "source": [
    "#create a dataframe groped by Overall Passing per School\n",
    "oPass_df = gr_Sch_df.groupby([\"sch_summary.ascend=True "
   ]
  },
  {
   "cell_type": "markdown",
   "metadata": {},
   "source": [
    "## Bottom Performing Schools (By % Overall Passing)"
   ]
  },
  {
   "cell_type": "markdown",
   "metadata": {},
   "source": [
    "* Sort and display the five worst-performing schools by % overall passing."
   ]
  },
  {
   "cell_type": "code",
   "execution_count": null,
   "metadata": {},
   "outputs": [],
   "source": [
    "sch_summary.ascend=False"
   ]
  },
  {
   "cell_type": "markdown",
   "metadata": {
    "collapsed": true
   },
   "source": [
    "## Math Scores by Grade"
   ]
  },
  {
   "cell_type": "markdown",
   "metadata": {},
   "source": [
    "* Create a table that lists the average Reading Score for students of each grade level (9th, 10th, 11th, 12th) at each school.\n",
    "\n",
    "  * Create a pandas series for each grade. Hint: use a conditional statement.\n",
    "  \n",
    "  * Group each series by school\n",
    "  \n",
    "  * Combine the series into a dataframe\n",
    "  \n",
    "  * Optional: give the displayed data cleaner formatting"
   ]
  },
  {
   "cell_type": "code",
   "execution_count": null,
   "metadata": {},
   "outputs": [],
   "source": [
    "studByYr_summary = gr_Sch_df({' ': school_name, \n",
    "              '9th': mAvg\n",
    "              '10th': mAvg\n",
    "              '11th': mAvg\n",
    "              '12th': mAvg"
   ]
  },
  {
   "cell_type": "markdown",
   "metadata": {},
   "source": [
    "## Reading Score by Grade "
   ]
  },
  {
   "cell_type": "markdown",
   "metadata": {},
   "source": [
    "* Perform the same operations as above for reading scores"
   ]
  },
  {
   "cell_type": "code",
   "execution_count": null,
   "metadata": {},
   "outputs": [],
   "source": [
    "studByYr_summary = gr_Sch_df({' ': school_name, \n",
    "              '9th': rAvg\n",
    "              '10th': rAvg\n",
    "              '11th': rAvg\n",
    "              '12th': rAvg"
   ]
  },
  {
   "cell_type": "markdown",
   "metadata": {},
   "source": [
    "## Scores by School Spending"
   ]
  },
  {
   "cell_type": "markdown",
   "metadata": {},
   "source": [
    "* Create a table that breaks down school performances based on average Spending Ranges (Per Student). Use 4 reasonable bins to group school spending. Include in the table each of the following:\n",
    "  * Average Math Score\n",
    "  * Average Reading Score\n",
    "  * % Passing Math\n",
    "  * % Passing Reading\n",
    "  * Overall Passing Rate (Average of the above two)"
   ]
  },
  {
   "cell_type": "code",
   "execution_count": null,
   "metadata": {},
   "outputs": [],
   "source": []
  },
  {
   "cell_type": "markdown",
   "metadata": {},
   "source": [
    "## Scores by School Size"
   ]
  },
  {
   "cell_type": "markdown",
   "metadata": {},
   "source": [
    "* Perform the same operations as above, based on school size."
   ]
  },
  {
   "cell_type": "code",
   "execution_count": null,
   "metadata": {
    "scrolled": true
   },
   "outputs": [],
   "source": []
  },
  {
   "cell_type": "markdown",
   "metadata": {},
   "source": [
    "## Scores by School Type"
   ]
  },
  {
   "cell_type": "markdown",
   "metadata": {},
   "source": [
    "* Perform the same operations as above, based on school type"
   ]
  },
  {
   "cell_type": "code",
   "execution_count": null,
   "metadata": {},
   "outputs": [],
   "source": []
  },
  {
   "cell_type": "code",
   "execution_count": null,
   "metadata": {},
   "outputs": [],
   "source": []
  }
 ],
 "metadata": {
  "anaconda-cloud": {},
  "kernel_info": {
   "name": "python3"
  },
  "kernelspec": {
   "display_name": "PythonData38",
   "language": "python",
   "name": "pythondata38"
  },
  "language_info": {
   "codemirror_mode": {
    "name": "ipython",
    "version": 3
   },
   "file_extension": ".py",
   "mimetype": "text/x-python",
   "name": "python",
   "nbconvert_exporter": "python",
   "pygments_lexer": "ipython3",
   "version": "3.9.12"
  },
  "latex_envs": {
   "LaTeX_envs_menu_present": true,
   "autoclose": false,
   "autocomplete": true,
   "bibliofile": "biblio.bib",
   "cite_by": "apalike",
   "current_citInitial": 1,
   "eqLabelWithNumbers": true,
   "eqNumInitial": 1,
   "hotkeys": {
    "equation": "Ctrl-E",
    "itemize": "Ctrl-I"
   },
   "labels_anchors": false,
   "latex_user_defs": false,
   "report_style_numbering": false,
   "user_envs_cfg": false
  },
  "nteract": {
   "version": "0.8.4"
  }
 },
 "nbformat": 4,
 "nbformat_minor": 1
}
